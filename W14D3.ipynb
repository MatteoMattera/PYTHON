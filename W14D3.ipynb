{
 "cells": [
  {
   "cell_type": "code",
   "execution_count": 1,
   "id": "64b1b51d-4874-4485-ade4-de515463b70f",
   "metadata": {},
   "outputs": [
    {
     "data": {
      "text/plain": [
       "' Abbiamo una lista di liste: mat = [[0, 1, 2, 3, 4], [5, 6, 7, 8, 9], [10, 11, 12, 13, 14]] Che tipo di struttura dati o matematica potrebbe rappresentare? Notare che tutte le liste \"interne\" sono della stessa dimensione Come facciamo per accedere ad un elemento in particolare?'"
      ]
     },
     "execution_count": 1,
     "metadata": {},
     "output_type": "execute_result"
    }
   ],
   "source": [
    "\"\"\" Abbiamo una lista di liste: mat = [[0, 1, 2, 3, 4], [5, 6, 7, 8, 9], [10, 11, 12, 13, 14]] Che tipo di struttura dati o matematica potrebbe rappresentare? \n",
    "Notare che tutte le liste \"interne\" sono della stessa dimensione Come facciamo per accedere ad un elemento in particolare?\"\"\""
   ]
  },
  {
   "cell_type": "code",
   "execution_count": 3,
   "id": "56883671-7cc5-4d90-963e-d33cb07fe6e1",
   "metadata": {},
   "outputs": [],
   "source": [
    "import numpy as np\n",
    "import pandas as pd\n",
    "import math"
   ]
  },
  {
   "cell_type": "code",
   "execution_count": 4,
   "id": "7ef886af-fa2f-4b72-8085-d8a44e52443d",
   "metadata": {},
   "outputs": [
    {
     "data": {
      "text/plain": [
       "array([[ 0,  1,  2,  3,  4],\n",
       "       [ 5,  6,  7,  8,  9],\n",
       "       [10, 11, 12, 13, 14]])"
      ]
     },
     "execution_count": 4,
     "metadata": {},
     "output_type": "execute_result"
    }
   ],
   "source": [
    "mat = [[0, 1, 2, 3, 4], [5, 6, 7, 8, 9], [10, 11, 12, 13, 14]]\n",
    "mat_array = np.array(mat) #riformattazione array con numpy\n",
    "mat_array"
   ]
  },
  {
   "cell_type": "code",
   "execution_count": 6,
   "id": "980742da-e0ec-457e-9ab1-cdc70f342f35",
   "metadata": {},
   "outputs": [
    {
     "data": {
      "text/plain": [
       "(3, 5)"
      ]
     },
     "execution_count": 6,
     "metadata": {},
     "output_type": "execute_result"
    }
   ],
   "source": [
    "mat_array.shape #ispeziona la dimensione del nostro array"
   ]
  },
  {
   "cell_type": "code",
   "execution_count": 8,
   "id": "315ae1e8-c2b4-4110-8886-8e358063b44a",
   "metadata": {},
   "outputs": [
    {
     "data": {
      "text/plain": [
       "array([0, 1, 2, 3, 4])"
      ]
     },
     "execution_count": 8,
     "metadata": {},
     "output_type": "execute_result"
    }
   ],
   "source": [
    "mat_array[0,:]\n"
   ]
  },
  {
   "cell_type": "code",
   "execution_count": 9,
   "id": "437067e7-2a2e-4a45-b8c6-e7392c772afe",
   "metadata": {},
   "outputs": [
    {
     "data": {
      "text/plain": [
       "7"
      ]
     },
     "execution_count": 9,
     "metadata": {},
     "output_type": "execute_result"
    }
   ],
   "source": [
    "mat_array[1,2]  #per accedere singolarmente al singolo elemento"
   ]
  },
  {
   "cell_type": "code",
   "execution_count": null,
   "id": "83588446-737c-4735-844f-e3cdf46217d0",
   "metadata": {},
   "outputs": [],
   "source": []
  },
  {
   "cell_type": "code",
   "execution_count": 10,
   "id": "bbbb4066-a55f-4bf4-9893-482998535791",
   "metadata": {},
   "outputs": [
    {
     "data": {
      "text/plain": [
       "'Importiamo il modulo math e proviamo a usare le funzioni .sin() .cos() .factorial() \\ne la variabile .pi la riconoscete? '"
      ]
     },
     "execution_count": 10,
     "metadata": {},
     "output_type": "execute_result"
    }
   ],
   "source": [
    "\"\"\"Importiamo il modulo math e proviamo a usare le funzioni .sin() .cos() .factorial() \n",
    "e la variabile .pi la riconoscete? \"\"\""
   ]
  },
  {
   "cell_type": "code",
   "execution_count": 22,
   "id": "1ce49c27-311b-4bc8-a0a8-15252d653d42",
   "metadata": {},
   "outputs": [
    {
     "name": "stdout",
     "output_type": "stream",
     "text": [
      "Sin di 90 è 0.8939966636005579 in radianti\n"
     ]
    }
   ],
   "source": [
    "x = math.sin(90) #restituisce il sin di 15\n",
    "print(\"Sin di 90 è\", x, \"in radianti\")"
   ]
  },
  {
   "cell_type": "code",
   "execution_count": 16,
   "id": "20c76658-cab6-43eb-a4ca-88c811236adc",
   "metadata": {},
   "outputs": [
    {
     "data": {
      "text/plain": [
       "-0.4480736161291701"
      ]
     },
     "execution_count": 16,
     "metadata": {},
     "output_type": "execute_result"
    }
   ],
   "source": [
    "y = math.cos(90)\n",
    "print(\"Sin di 90 è\", x, \"in radianti\")"
   ]
  },
  {
   "cell_type": "code",
   "execution_count": 23,
   "id": "4189e142-3332-4e1d-86e2-b25f9a6951cc",
   "metadata": {},
   "outputs": [
    {
     "data": {
      "text/plain": [
       "24"
      ]
     },
     "execution_count": 23,
     "metadata": {},
     "output_type": "execute_result"
    }
   ],
   "source": [
    "z = math.factorial(4)\n",
    "z"
   ]
  },
  {
   "cell_type": "code",
   "execution_count": null,
   "id": "ff8d398b-e0d5-443f-9f12-b01e180c3675",
   "metadata": {},
   "outputs": [],
   "source": [
    "\"\"\"L'azienda Object SpA ha creato una lista di quanti oggetti ha venduto ogni mese nell'ultimo anno: \n",
    "lst = [2000, 5500, 7200, 4320, 1280, 1900, 2500, 3900, 6410, 8150, 7100, 5350] \n",
    "trasformiamola in un array NumPy (casting): lst = np.array(lst) e\n",
    "rispondiamo alle domande del CEO della Object SpA: \n",
    "• qual è stata la vendita massima mensile? E quella minima? \n",
    "• quali sono le vendite mensili maggiori di 4999 oggetti? E quante ne sono? \n",
    "• quali sono le vendite minori di 3000 oggetti? 5 \n",
    "• in media quanti oggetti sono stati venduti al mese?\"\"\""
   ]
  },
  {
   "cell_type": "code",
   "execution_count": 24,
   "id": "07129675-71cd-4f4f-b279-4cfb691000d0",
   "metadata": {},
   "outputs": [],
   "source": [
    "lst = [2000, 5500, 7200, 4320, 1280, 1900, 2500, 3900, 6410, 8150, 7100, 5350] \n",
    "lst = np.array(lst)"
   ]
  },
  {
   "cell_type": "code",
   "execution_count": 25,
   "id": "aa56f710-9480-4e33-bcbd-36597e993f65",
   "metadata": {},
   "outputs": [
    {
     "name": "stdout",
     "output_type": "stream",
     "text": [
      "8150\n"
     ]
    }
   ],
   "source": [
    "print(lst.max()) # vendita max mensile"
   ]
  },
  {
   "cell_type": "code",
   "execution_count": 26,
   "id": "d0d06adf-c438-47aa-af1e-6536cc8bce23",
   "metadata": {},
   "outputs": [
    {
     "name": "stdout",
     "output_type": "stream",
     "text": [
      "1280\n"
     ]
    }
   ],
   "source": [
    "print(lst.min()) # vendita minima mensile"
   ]
  },
  {
   "cell_type": "code",
   "execution_count": 28,
   "id": "ce169b7b-6e53-4a27-a10b-ef792451f115",
   "metadata": {},
   "outputs": [
    {
     "name": "stdout",
     "output_type": "stream",
     "text": [
      "4634.166666666667\n"
     ]
    }
   ],
   "source": [
    "print(lst.mean()) # vendita media mensile"
   ]
  },
  {
   "cell_type": "code",
   "execution_count": 31,
   "id": "c1a046f5-ab75-4b30-8730-4484bfc4d196",
   "metadata": {},
   "outputs": [
    {
     "name": "stdout",
     "output_type": "stream",
     "text": [
      "[5500 7200 6410 8150 7100 5350]\n"
     ]
    }
   ],
   "source": [
    "filter = lst[lst>4999] # genera condizione estraendo i valori che soddisfando la [] restiutuento T o F\n",
    "print(filter)"
   ]
  },
  {
   "cell_type": "code",
   "execution_count": 35,
   "id": "4092315f-9ec2-4662-9efe-40b7a8f01ccf",
   "metadata": {},
   "outputs": [
    {
     "name": "stdout",
     "output_type": "stream",
     "text": [
      "quanti sono : 6\n"
     ]
    }
   ],
   "source": [
    "print(\"quanti sono :\", len(filter))"
   ]
  },
  {
   "cell_type": "code",
   "execution_count": 34,
   "id": "856280bf-b705-4415-ae38-e7486e5ff3c6",
   "metadata": {},
   "outputs": [
    {
     "name": "stdout",
     "output_type": "stream",
     "text": [
      "[2000 1280 1900 2500]\n"
     ]
    }
   ],
   "source": [
    "filter_min = lst[lst<3000]\n",
    "print(filter_min)"
   ]
  },
  {
   "cell_type": "code",
   "execution_count": 39,
   "id": "5c05a79d-94fc-4ea7-a10d-ede8ef39f348",
   "metadata": {},
   "outputs": [
    {
     "name": "stdout",
     "output_type": "stream",
     "text": [
      "media al mese arrotondata a 2 cifre è 4634.17\n"
     ]
    }
   ],
   "source": [
    "print(\"media al mese arrotondata a 2 cifre è\", round(lst.mean(), 2)) # vendita media mensile arrotondata di 2 decimali"
   ]
  },
  {
   "cell_type": "code",
   "execution_count": null,
   "id": "cd187f96-143b-46bb-b976-65dc9402e7ae",
   "metadata": {},
   "outputs": [],
   "source": [
    "\"\"\" Consideriamo il seguente dizionario:\n",
    "fatturati_dict = {1997: 12_000, 1998: 15_000, 1999: 20_000, 2000: 23_000, 2001: 25_000, 2002: 17_000, 2003: 14_000, 2004: 21_000} \n",
    "Consideriamo ora la seguente Series:\n",
    "fatturati_series = pd.Series([12_000, 15_000, 20_000, 23_000, 25_000, 17_000, 14_000, 21_000],\n",
    "index=range(1997, 2005)) \n",
    "Possiamo accedere alle stesse informazioni nello stesso modo:\n",
    "fatturati_dict[1997] fatturati_series[1997] \n",
    "Dunque qual è la differenza tra i due tipi di dato? Cosa potremmo fare con la Series che non possiamo fare con il dizionario?"
   ]
  },
  {
   "cell_type": "code",
   "execution_count": 40,
   "id": "99b419f0-9346-44cd-b5e6-33a9d98cce98",
   "metadata": {},
   "outputs": [],
   "source": [
    "#Dizionario\n",
    "fatturati_dict = {1997: 12_000, 1998: 15_000, 1999: 20_000, 2000: 23_000, 2001: 25_000, 2002: 17_000, 2003: 14_000, 2004: 21_000}"
   ]
  },
  {
   "cell_type": "code",
   "execution_count": 47,
   "id": "fb8c2f97-89fd-46d2-9355-6b227f189a85",
   "metadata": {},
   "outputs": [],
   "source": [
    "#Serie Pandas\n",
    "fatturati_series = pd.Series([12_000, 15_000, 20_000, 23_000, 25_000, 17_000, 14_000, 21_000], index = range(1997, 2005))"
   ]
  },
  {
   "cell_type": "code",
   "execution_count": 42,
   "id": "44792311-c4ec-49f1-a999-c358b2550241",
   "metadata": {},
   "outputs": [
    {
     "data": {
      "text/plain": [
       "12000"
      ]
     },
     "execution_count": 42,
     "metadata": {},
     "output_type": "execute_result"
    }
   ],
   "source": [
    "#Accesso tramite chiave x, restituisce {x:y}\n",
    "fatturati_dict[1997] "
   ]
  },
  {
   "cell_type": "code",
   "execution_count": 43,
   "id": "598239cd-be24-40a1-9686-20200540ac3e",
   "metadata": {},
   "outputs": [
    {
     "name": "stdout",
     "output_type": "stream",
     "text": [
      "Tipo di valore del dizionario <class 'int'>\n"
     ]
    }
   ],
   "source": [
    "print(\"Tipo di valore del dizionario\", type(fatturati_dict[1997]))"
   ]
  },
  {
   "cell_type": "code",
   "execution_count": 45,
   "id": "fde9f039-50cb-43b6-a011-de5bfb271464",
   "metadata": {},
   "outputs": [
    {
     "data": {
      "text/plain": [
       "12000"
      ]
     },
     "execution_count": 45,
     "metadata": {},
     "output_type": "execute_result"
    }
   ],
   "source": [
    "fatturati_series[1997] "
   ]
  },
  {
   "cell_type": "code",
   "execution_count": 44,
   "id": "fb50fa0a-5a1a-4b8e-9a65-eebba14ebea4",
   "metadata": {},
   "outputs": [
    {
     "name": "stdout",
     "output_type": "stream",
     "text": [
      "Tipo di valore della serie pandas <class 'numpy.int64'>\n"
     ]
    }
   ],
   "source": [
    "print(\"Tipo di valore della serie pandas\", type(fatturati_series[1997]))"
   ]
  },
  {
   "cell_type": "code",
   "execution_count": 48,
   "id": "8b4db37b-8a33-4497-9620-306fc1220edc",
   "metadata": {},
   "outputs": [
    {
     "name": "stdout",
     "output_type": "stream",
     "text": [
      "Massimo della serie\n",
      " 25000\n"
     ]
    }
   ],
   "source": [
    "print(\"Massimo della serie\\n\", fatturati_series.max())"
   ]
  },
  {
   "cell_type": "code",
   "execution_count": 51,
   "id": "7d963c5a-7e31-4b8a-a9b5-dde236164f3d",
   "metadata": {},
   "outputs": [
    {
     "name": "stdout",
     "output_type": "stream",
     "text": [
      "Between\n",
      " 1998    15000\n",
      "1999    20000\n",
      "2002    17000\n",
      "dtype: int64\n"
     ]
    }
   ],
   "source": [
    "print(\"Between\\n\", fatturati_series[fatturati_series.between(15_000, 20_000)])"
   ]
  },
  {
   "cell_type": "code",
   "execution_count": null,
   "id": "f349dd1d-68ea-47fc-9f0e-6ac3bc99af04",
   "metadata": {},
   "outputs": [],
   "source": [
    "\"\"\" L'azienda Object SpA ha un dataset con tutti gli stipendi dei dipendenti, memorizzato in un ndarray:\n",
    "import numpy as np stipendi = np.array( [100, 200, 300, 400, 500,  600, 700, 800, 900, 1000] ) \n",
    "L'azienda ci chiede di raddoppiare tutti gli stipendi; facciamolo in due modi: • con un ciclo for\n",
    "con masking\"\"\""
   ]
  },
  {
   "cell_type": "code",
   "execution_count": 52,
   "id": "72df3bdf-debb-4111-882a-efc28222d5ef",
   "metadata": {},
   "outputs": [
    {
     "name": "stdout",
     "output_type": "stream",
     "text": [
      "[ 100  200  300  400  500  600  700  800  900 1000]\n"
     ]
    }
   ],
   "source": [
    "stipendi = np.array( [100, 200, 300, 400, 500,  600, 700, 800, 900, 1000] ) \n",
    "print(stipendi)"
   ]
  },
  {
   "cell_type": "code",
   "execution_count": 58,
   "id": "d210165d-8fb5-42b6-9803-aa8083406299",
   "metadata": {},
   "outputs": [
    {
     "name": "stdout",
     "output_type": "stream",
     "text": [
      "200\n"
     ]
    }
   ],
   "source": [
    "# Raddoppiare gli stipendi tramite il ciclo FOR\n",
    "\n",
    "lista_stipendi_raddoppiati = []\n",
    "print(stipendi[1])"
   ]
  },
  {
   "cell_type": "code",
   "execution_count": 59,
   "id": "716800d1-d8b8-4139-a52d-3a90b12473c5",
   "metadata": {},
   "outputs": [
    {
     "name": "stdout",
     "output_type": "stream",
     "text": [
      "Lista stipendi raddoppiati [200, 400, 600, 800, 1000, 1200, 1400, 1600, 1800, 2000]\n"
     ]
    }
   ],
   "source": [
    "for stipendio in stipendi:\n",
    "    lista_stipendi_raddoppiati.append(stipendio * 2 )\n",
    "print(\"Lista stipendi raddoppiati\", lista_stipendi_raddoppiati)"
   ]
  },
  {
   "cell_type": "code",
   "execution_count": null,
   "id": "3fcbc118-99df-42f5-bc2b-e66bfce8a723",
   "metadata": {},
   "outputs": [],
   "source": []
  }
 ],
 "metadata": {
  "kernelspec": {
   "display_name": "Python 3 (ipykernel)",
   "language": "python",
   "name": "python3"
  },
  "language_info": {
   "codemirror_mode": {
    "name": "ipython",
    "version": 3
   },
   "file_extension": ".py",
   "mimetype": "text/x-python",
   "name": "python",
   "nbconvert_exporter": "python",
   "pygments_lexer": "ipython3",
   "version": "3.11.7"
  }
 },
 "nbformat": 4,
 "nbformat_minor": 5
}
