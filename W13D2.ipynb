{
 "cells": [
  {
   "cell_type": "code",
   "execution_count": 3,
   "id": "5797b41f-b4e3-476b-96fa-4f0ec06d01ac",
   "metadata": {},
   "outputs": [
    {
     "data": {
      "text/plain": [
       "' 1. Abbiamo la stringa: nome_scuola = \"Epicode\" Stampare ogni carattere della stringa, uno su ogni riga, utilizzando un costrutto while.'"
      ]
     },
     "execution_count": 3,
     "metadata": {},
     "output_type": "execute_result"
    }
   ],
   "source": [
    "\"\"\" 1. Abbiamo la stringa: nome_scuola = \"Epicode\" Stampare ogni carattere della stringa, uno su ogni riga, utilizzando un costrutto while.\"\"\""
   ]
  },
  {
   "cell_type": "code",
   "execution_count": null,
   "id": "19be16da-0358-4e10-a01b-0abdad06ff8b",
   "metadata": {},
   "outputs": [],
   "source": [
    "nome_scuola = \"Epicode\"\n",
    "contatore = 0\n",
    "while contatore <= len(nome_scuola)-1:\n",
    "    print(nome_scuola[contatore])\n",
    "    contatore += 1\n",
    "\n",
    "\n"
   ]
  },
  {
   "cell_type": "code",
   "execution_count": null,
   "id": "56371d4d-c152-4c61-91ad-1f7940153f7e",
   "metadata": {},
   "outputs": [],
   "source": [
    "nome_scuola = \"Epicode\"\n",
    "contatore = 0\n",
    "while contatore <= len(nome_scuola)-1:\n",
    "    print(nome_scuola[contatore].upper())\n",
    "    contatore += 1"
   ]
  },
  {
   "cell_type": "code",
   "execution_count": null,
   "id": "797b0226-45cc-4585-89c0-7e0a896549e4",
   "metadata": {},
   "outputs": [],
   "source": [
    "\"\"\"2. Stampare a video tutti i numeri da 0 a 20 utilizzando il costrutto while. Utilizzeremo: \n",
    "• un ciclo while • la funzione print() • una variabile, che dovrà essere inizializzata • una procedura di incremento \"\"\""
   ]
  },
  {
   "cell_type": "code",
   "execution_count": null,
   "id": "66e3bfe2-e071-40f4-bb2b-5bca341c75fc",
   "metadata": {},
   "outputs": [],
   "source": [
    "numero = 0\n",
    "lista_numeri = []\n",
    "while numero <= 20:\n",
    "    lista_numeri.append(numero)\n",
    "    numero += 1\n",
    "print(lista_numeri)"
   ]
  },
  {
   "cell_type": "code",
   "execution_count": 4,
   "id": "d327f55f-b375-4b16-9e43-87dfc397f6e4",
   "metadata": {},
   "outputs": [
    {
     "data": {
      "text/plain": [
       "'3. Calcolare e stampare tutte le prime 10 potenze di 2 (e.g., 2⁰, 2¹, 2², …) utilizzando un ciclo while.'"
      ]
     },
     "execution_count": 4,
     "metadata": {},
     "output_type": "execute_result"
    }
   ],
   "source": [
    "\"\"\"3. Calcolare e stampare tutte le prime 10 potenze di 2 (e.g., 2⁰, 2¹, 2², …) utilizzando un ciclo while.\"\"\""
   ]
  },
  {
   "cell_type": "code",
   "execution_count": 1,
   "id": "86fc4aae-4896-4277-b4b2-bcc59a0c441e",
   "metadata": {},
   "outputs": [
    {
     "name": "stdout",
     "output_type": "stream",
     "text": [
      "1\n",
      "2\n",
      "4\n",
      "8\n",
      "16\n",
      "32\n",
      "64\n",
      "128\n",
      "256\n",
      "512\n",
      "1024\n"
     ]
    }
   ],
   "source": [
    "numero = 2\n",
    "potenza = 0\n",
    "while potenza <= 10:\n",
    "    print(numero**potenza)\n",
    "    potenza += 1"
   ]
  },
  {
   "cell_type": "code",
   "execution_count": 3,
   "id": "6c9555f3-dbd5-4766-bc8f-87a3c317af9f",
   "metadata": {},
   "outputs": [
    {
     "data": {
      "text/plain": [
       "\" 4. Calcolare e stampare tutte le prime N potenze di 2 utilizzando un ciclo while, domandando all'utente di inserire N. \""
      ]
     },
     "execution_count": 3,
     "metadata": {},
     "output_type": "execute_result"
    }
   ],
   "source": [
    "\"\"\" 4. Calcolare e stampare tutte le prime N potenze di 2 utilizzando un ciclo while, domandando all'utente di inserire N. \"\"\""
   ]
  },
  {
   "cell_type": "code",
   "execution_count": 11,
   "id": "5ceb1809-58f0-4455-85f5-f88e5a70b503",
   "metadata": {},
   "outputs": [
    {
     "name": "stdin",
     "output_type": "stream",
     "text": [
      "inserisci quante potenze vuoi fare 5\n"
     ]
    },
    {
     "name": "stdout",
     "output_type": "stream",
     "text": [
      "1\n",
      "2\n",
      "4\n",
      "8\n",
      "16\n",
      "32\n"
     ]
    }
   ],
   "source": [
    "numero = 2\n",
    "n = int(input(\"inserisci quante potenze vuoi fare\"))\n",
    "potenza = 0\n",
    "while potenza <= n :\n",
    "    print(numero**potenza)\n",
    "    potenza += 1"
   ]
  },
  {
   "cell_type": "code",
   "execution_count": null,
   "id": "0bd79923-6e50-4b8f-b24c-d4c28375debe",
   "metadata": {},
   "outputs": [],
   "source": [
    "\"\"\" 5. Calcolare e stampare tutte le potenze di 2 minori di 25000. \"\"\""
   ]
  },
  {
   "cell_type": "code",
   "execution_count": 16,
   "id": "242a3631-d5b2-4057-9dcb-45df879a319f",
   "metadata": {},
   "outputs": [
    {
     "name": "stdout",
     "output_type": "stream",
     "text": [
      "1\n",
      "2\n",
      "4\n",
      "8\n",
      "16\n",
      "32\n",
      "64\n",
      "128\n",
      "256\n",
      "512\n",
      "1024\n",
      "2048\n",
      "4096\n",
      "8192\n",
      "16384\n"
     ]
    }
   ],
   "source": [
    "numero = 2\n",
    "limite = 25000\n",
    "esponente = 0\n",
    "while (numero**esponente)< limite :\n",
    "    print(numero**esponente)\n",
    "    esponente += 1"
   ]
  },
  {
   "cell_type": "code",
   "execution_count": 22,
   "id": "4f50343b-102c-4b9e-a7f8-56da6e8ad48b",
   "metadata": {},
   "outputs": [
    {
     "data": {
      "text/plain": [
       "'ESERCIZIO 6 \\nAbbiamo due liste, una di studenti e una di corsi: studenti = [\"Alex\", \"Bob\", \"Cindy\", \"Dan\", \"Emma\", \"Faith\", \"Grace\", \"Henry\"] corsi = [\"Cybersecurity\", \"Data Analyst\", \"Backend\", \"Frontend\", \"Data Analyst\", \"Backend\"]\\n\\nAggiungere i dati mancanti alla lista corsi, sapendo che Emma segue Data Analyst Faith segue Backend Grace segue Frontend Henry segue Cybersecurity Aggiungeremo i dati mancanti uno alla volta con il metodo per appendere in coda alle liste, poi verificheremo che sono della stessa lunghezza e se lo sono stamperemo la lista corsi. Se alcuni dati sono già presenti non vanno aggiunti di nuovo.'"
      ]
     },
     "execution_count": 22,
     "metadata": {},
     "output_type": "execute_result"
    }
   ],
   "source": [
    "\"\"\"ESERCIZIO 6 \n",
    "Abbiamo due liste, una di studenti e una di corsi: studenti = [\"Alex\", \"Bob\", \"Cindy\", \"Dan\", \"Emma\", \"Faith\", \"Grace\", \"Henry\"] corsi = [\"Cybersecurity\", \"Data Analyst\", \"Backend\", \"Frontend\", \"Data Analyst\", \"Backend\"]\n",
    "\n",
    "Aggiungere i dati mancanti alla lista corsi, sapendo che Emma segue Data Analyst Faith segue Backend Grace segue Frontend Henry segue Cybersecurity Aggiungeremo i dati mancanti uno alla volta con il metodo per appendere in coda alle liste, poi verificheremo che sono della stessa lunghezza e se lo sono stamperemo la lista corsi. Se alcuni dati sono già presenti non vanno aggiunti di nuovo.\"\"\""
   ]
  },
  {
   "cell_type": "code",
   "execution_count": 19,
   "id": "6b5d59ca-0052-41e4-b89a-e29483447af7",
   "metadata": {},
   "outputs": [],
   "source": [
    "studenti =  [\"Alex\", \"Bob\", \"Cindy\", \"Dan\", \"Emma\", \"Faith\", \"Grace\", \"Henry\"] \n",
    "corsi =  [\"Cybersecurity\", \"Data Analyst\", \"Backend\", \"Frontend\", \"Data Analyst\", \"Backend\"]\n"
   ]
  },
  {
   "cell_type": "code",
   "execution_count": 21,
   "id": "c8f34ca4-fbff-431f-94ae-da8e25b75bb0",
   "metadata": {},
   "outputs": [
    {
     "name": "stdout",
     "output_type": "stream",
     "text": [
      "Alex   Cybersecurity\n",
      "Bob   Data Analyst\n",
      "Cindy   Backend\n",
      "Dan   Frontend\n",
      "Emma   Data Analyst\n",
      "Faith   Backend\n",
      "Grace   Frontend\n",
      "Henry   Cybersecurity\n"
     ]
    }
   ],
   "source": [
    "corsi.append(\"Frontend\")\n",
    "corsi.append(\"Cybersecurity\")\n",
    "\n",
    "for s, c in zip (studenti,corsi) :\n",
    "    print( s, \" \", c)"
   ]
  },
  {
   "cell_type": "code",
   "execution_count": 24,
   "id": "8bc49202-a775-48a2-b5c2-3a570563881b",
   "metadata": {},
   "outputs": [
    {
     "data": {
      "text/plain": [
       "\" 7. Scriviamo un programma che chiede in input all'utente una stringa e visualizza i primi 3 caratteri, seguiti da 3 punti di sospensione e quindi gli ultimi 3 caratteri, similmente all'esercizio della lezione scorsa. Stavolta facciamo attenzione a tutti i casi particolari, ovvero implementare soluzioni ad hoc per stringhe di lunghezza inferiore a 6 caratteri. \""
      ]
     },
     "execution_count": 24,
     "metadata": {},
     "output_type": "execute_result"
    }
   ],
   "source": [
    "\"\"\" 7. Scriviamo un programma che chiede in input all'utente una stringa e visualizza i primi 3 caratteri, seguiti da 3 punti di sospensione e quindi gli ultimi 3 caratteri, similmente all'esercizio della lezione scorsa. Stavolta facciamo attenzione a tutti i casi particolari, ovvero implementare soluzioni ad hoc per stringhe di lunghezza inferiore a 6 caratteri. \"\"\""
   ]
  },
  {
   "cell_type": "code",
   "execution_count": null,
   "id": "2eb8340b-9965-4497-8b19-7c3ffb0e8b3b",
   "metadata": {},
   "outputs": [],
   "source": [
    "ins_stringa = input(\"inserisci una stringa\")\n",
    "array_stringa = list(ins_stringa)\n",
    "if len(array_stringa) >= 6:\n",
    "    print(array_stringa [:3], \"...\",  array_stringa[-3:])\n",
    "else : print(\"La stringa inserita è minore di 6 caratteri\")\n"
   ]
  },
  {
   "cell_type": "code",
   "execution_count": 25,
   "id": "de3a20fc-4849-4f88-9e22-79da5bcfdc22",
   "metadata": {},
   "outputs": [
    {
     "data": {
      "text/plain": [
       "' 8. Memorizza e stampa tutti i fattori di un numero dato in input. Esempio: • input: 150 • output: [2, 3, 5, 5]'"
      ]
     },
     "execution_count": 25,
     "metadata": {},
     "output_type": "execute_result"
    }
   ],
   "source": [
    "\"\"\" 8. Memorizza e stampa tutti i fattori di un numero dato in input. Esempio: • input: 150 • output: [2, 3, 5, 5]\"\"\""
   ]
  },
  {
   "cell_type": "code",
   "execution_count": 2,
   "id": "317dc2eb-a6cc-449d-b44d-fa2fe4e3a7c0",
   "metadata": {},
   "outputs": [
    {
     "name": "stdin",
     "output_type": "stream",
     "text": [
      "inserisci un numero intero 150\n"
     ]
    },
    {
     "name": "stdout",
     "output_type": "stream",
     "text": [
      " i fattori sono  [2, 3, 5, 5]\n"
     ]
    }
   ],
   "source": [
    "numero = int(input(\"inserisci un numero intero\"))\n",
    "divisore = 2\n",
    "fattori = [] \n",
    "while numero > 1:\n",
    "    if numero % divisore == 0:\n",
    "        fattori.append(divisore)\n",
    "        numero //= divisore\n",
    "    else:\n",
    "        divisore += 1 \n",
    "print(\" i fattori sono \", fattori)"
   ]
  },
  {
   "cell_type": "code",
   "execution_count": null,
   "id": "90d254b8-1ab1-4e64-9d4e-6d2a309ea508",
   "metadata": {},
   "outputs": [],
   "source": [
    "\"\"\" 9. Abbiamo la stringa: nome_scuola = \"Epicode\" Stampare ogni carattere della stringa, uno su ogni riga, utilizzando un costrutto for. \"\"\""
   ]
  },
  {
   "cell_type": "code",
   "execution_count": 3,
   "id": "a10bfde0-5080-4d08-8f66-cfe7484b0ef2",
   "metadata": {},
   "outputs": [
    {
     "name": "stdout",
     "output_type": "stream",
     "text": [
      "E\n",
      "p\n",
      "i\n",
      "c\n",
      "o\n",
      "d\n",
      "e\n"
     ]
    }
   ],
   "source": [
    "nome_scuola = \"Epicode\"\n",
    "\n",
    "for carattere in nome_scuola:\n",
    "    print(carattere)\n"
   ]
  },
  {
   "cell_type": "code",
   "execution_count": 12,
   "id": "e3669e1b-4921-446f-a762-ad3c71ca076a",
   "metadata": {},
   "outputs": [
    {
     "name": "stdout",
     "output_type": "stream",
     "text": [
      "[2, 4, 8, 16, 32, 64, 128, 256, 512, 1024]\n"
     ]
    }
   ],
   "source": [
    "\"\"\" 10. Calcolare e stampare tutte le prime 10 potenze di 2 utilizzando un ciclo \"\"\"\n",
    "range_numerico = list()  \n",
    "num = 1   \n",
    "while num <= 10: \n",
    "    num_potenza = 2 ** num\n",
    "    range_numerico.append(num_potenza)\n",
    "    num += 1\n",
    "print(range_numerico)\n"
   ]
  },
  {
   "cell_type": "code",
   "execution_count": 36,
   "id": "9575bd19-c7fc-43d2-ac20-5eec4b612d1c",
   "metadata": {},
   "outputs": [
    {
     "name": "stdin",
     "output_type": "stream",
     "text": [
      "inserisci un numero 2\n",
      "inserisci il numero di potenze  maggiore di 1 3\n"
     ]
    },
    {
     "name": "stdout",
     "output_type": "stream",
     "text": [
      "[2, 4, 8]\n"
     ]
    }
   ],
   "source": [
    "\"\"\" 11. Calcolare (ma non stampare) le prime N potenze di K; ognuna di esse andrà memorizzata in coda a una lista. \n",
    "Alla fine, stampare la lista risultante. Proviamo con diversi valori di K, oppure facciamola inserire all'utente.\"\"\"\n",
    "valori = list()\n",
    "k = int(input(\"inserisci un numero\"))\n",
    "n = int(input(\"inserisci il numero di potenze  maggiore di 1\"))\n",
    "contatore = 1\n",
    "while contatore <= n:\n",
    "    risultato = k **  contatore\n",
    "    valori.append(risultato)\n",
    "    contatore += 1\n",
    "print(valori)\n",
    "    \n",
    "    "
   ]
  },
  {
   "cell_type": "code",
   "execution_count": 24,
   "id": "1b1a768e-7e4e-4c05-aa01-7df2af450732",
   "metadata": {},
   "outputs": [
    {
     "name": "stdin",
     "output_type": "stream",
     "text": [
      "Inserisci un numero:  2\n",
      "Inserisci il numero di potenze (maggiore di 1):  3\n"
     ]
    },
    {
     "name": "stdout",
     "output_type": "stream",
     "text": [
      "[2, 4, 8]\n"
     ]
    }
   ],
   "source": [
    "valori = list()\n",
    "k = int(input(\"Inserisci un numero: \"))\n",
    "n = int(input(\"Inserisci il numero di potenze (maggiore di 1): \"))\n",
    "\n",
    "for contatore in range(1, n + 1): #n questo caso, utilizziamo range(1, n + 1) per generare una sequenza di numeri da 1 a n inclusi, che verranno utilizzati\n",
    "                                  #come esponenti per calcolare le potenze di k. \n",
    "    risultato = k ** contatore\n",
    "    valori.append(risultato)\n",
    "\n",
    "print(valori)\n"
   ]
  },
  {
   "cell_type": "code",
   "execution_count": null,
   "id": "ab816e94-1abe-418c-8454-ec03f1e35fcd",
   "metadata": {},
   "outputs": [],
   "source": [
    "\"\"\" 12. Abbiamo una lista con i guadagni degli ultimi 12 mesi:\n",
    "guadagni = [100, 90, 70, 40, 50, 80, 90, 120, 80, 20, 50, 50] usando un costrutto for, calcolare la media dei guadagni e stamparla a video \"\"\""
   ]
  },
  {
   "cell_type": "code",
   "execution_count": 35,
   "id": "dc07d106-9f8c-4d8c-8f06-2b7722a6e83b",
   "metadata": {},
   "outputs": [
    {
     "name": "stdout",
     "output_type": "stream",
     "text": [
      "la media è 70.0\n"
     ]
    }
   ],
   "source": [
    "guadagni = [100, 90, 70, 40, 50, 80, 90, 120, 80, 20, 50, 50]\n",
    "somma = 0\n",
    "for valore in guadagni:\n",
    "    somma += valore\n",
    "media = somma / len(guadagni)\n",
    "print(\"la media è\", media)"
   ]
  },
  {
   "cell_type": "code",
   "execution_count": null,
   "id": "99f3f08e-2a88-4083-87d1-c32c3a13a12b",
   "metadata": {},
   "outputs": [],
   "source": [
    "\"\"\" 13. Abbiamo una lista di parole:\n",
    "parole = [\"Albergo\", \"Sedia\", \"Borgo\", \"Petalo\", \"Eremo\", \"Belvedere\", \"Semestre\", \"Esteta\", \"Sosta\", \"Orpello\", \"Abete\", \"Orologio\", \"Cesta\", \"Ermellino\"] \n",
    "stampiamo, per ogni parola, quante volte appare la lettera \"e\"; facciamo attenzione al fatto che appare sia maiuscola che minuscola. \"\"\""
   ]
  },
  {
   "cell_type": "code",
   "execution_count": 6,
   "id": "e6456128-9e23-4942-91fb-f53ae2c221bf",
   "metadata": {},
   "outputs": [
    {
     "name": "stdout",
     "output_type": "stream",
     "text": [
      "Albergo presenta 1 lettera e\n",
      "Sedia presenta 1 lettera e\n",
      "Petalo presenta 1 lettera e\n",
      "Eremo presenta 2 lettera e\n",
      "Belvedere presenta 4 lettera e\n",
      "Semestre presenta 3 lettera e\n",
      "Esteta presenta 2 lettera e\n",
      "Orpello presenta 1 lettera e\n",
      "Abete presenta 2 lettera e\n",
      "Cesta presenta 1 lettera e\n",
      "Ermellino presenta 2 lettera e\n"
     ]
    }
   ],
   "source": [
    "parole = [\"Albergo\", \"Sedia\", \"Borgo\", \"Petalo\", \"Eremo\", \"Belvedere\", \"Semestre\", \"Esteta\", \"Sosta\", \"Orpello\", \"Abete\", \"Orologio\", \"Cesta\", \"Ermellino\"]\n",
    "for parola in parole:\n",
    "    if \"e\" in parola.lower():\n",
    "        ricerca = parola.lower().count(\"e\")\n",
    "        print(parola, \"presenta\", ricerca, \"lettera e\")\n",
    "       \n",
    "\n"
   ]
  },
  {
   "cell_type": "code",
   "execution_count": null,
   "id": "c2d8d070-1d21-451e-b662-0f5c366690bf",
   "metadata": {},
   "outputs": [],
   "source": [
    "\"\"\" 14. Creiamo un dizionario che assegni ad ogni proprietario la sua auto, sapendo che:\n",
    "• Ada guida una Punto • Ben guida una Multipla • Charlie guida una Golf • Debbie guida una 107 Stampiamo il dizionario per intero, e poi l'auto associata a Debbie.\"\"\""
   ]
  },
  {
   "cell_type": "code",
   "execution_count": 13,
   "id": "927df01a-1ce1-4394-b637-f23acb603a15",
   "metadata": {},
   "outputs": [
    {
     "name": "stdout",
     "output_type": "stream",
     "text": [
      "{'Ada': 'Punto', 'Ben': 'Multipla', 'Charlie': 'Golf', 'Debbie': '107'}\n",
      "l'auto di Debbie è una 107\n"
     ]
    }
   ],
   "source": [
    "propr_auto = { \"Ada\" : \"Punto\",\n",
    "              \"Ben\" : \"Multipla\",\n",
    "              \"Charlie\" : \"Golf\",\n",
    "              \"Debbie\" : \"107\"}\n",
    "print(propr_auto)\n",
    "print(\"l'auto di Debbie è una\", propr_auto [\"Debbie\"])"
   ]
  },
  {
   "cell_type": "code",
   "execution_count": null,
   "id": "c7ff647a-ed1f-40cf-977f-9d0603d77138",
   "metadata": {},
   "outputs": [],
   "source": [
    "\"\"\" 15. Abbiamo un dizionario che assegna ad ogni proprietario la sua auto:\n",
    "dizionario_auto = {\"Ada\": \"Punto\", \"Ben\": \"Multipla\", \"Charlie\": \"Golf\", \"Debbie\": \"107\"} \n",
    "Con un ciclo, e usando il metodo .values(), stampiamo a video tutte le auto che non sono una Multipla.\"\"\""
   ]
  },
  {
   "cell_type": "code",
   "execution_count": 18,
   "id": "d5a106c1-e82e-45c5-8394-dda1cbca0616",
   "metadata": {},
   "outputs": [
    {
     "name": "stdout",
     "output_type": "stream",
     "text": [
      "Punto\n",
      "Golf\n",
      "107\n"
     ]
    }
   ],
   "source": [
    "for auto in propr_auto.values():\n",
    "    if auto != \"Multipla\":\n",
    "        print(auto)"
   ]
  },
  {
   "cell_type": "code",
   "execution_count": 21,
   "id": "5150316a-355d-4e07-b090-3704a670d3fa",
   "metadata": {},
   "outputs": [
    {
     "name": "stdout",
     "output_type": "stream",
     "text": [
      "Ada Punto\n",
      "Charlie Golf\n",
      "Debbie 107\n"
     ]
    }
   ],
   "source": [
    "# mi faccio restituire anche la chiave del valore \n",
    "for padrone, auto2 in propr_auto.items():\n",
    "    if auto2 != \"Multipla\":\n",
    "        print(padrone, auto2)"
   ]
  },
  {
   "cell_type": "code",
   "execution_count": 26,
   "id": "537fbf03-7e9a-46d9-a1f6-876816028edc",
   "metadata": {},
   "outputs": [
    {
     "name": "stdout",
     "output_type": "stream",
     "text": [
      "Ben ha cambiato auto da Multipla a Polo.\n",
      "Fred è un nuovo proprietario con auto Octavia.\n",
      "Grace è un nuovo proprietario con auto Yaris.\n",
      "Hugh è un nuovo proprietario con auto Clio.\n",
      "Dizionario_auto aggiornato: {'Ada': 'Punto', 'Ben': 'Polo', 'Charlie': 'Golf', 'Debbie': '107', 'Emily': 'A1', 'Fred': 'Octavia', 'Grace': 'Yaris', 'Hugh': 'Clio'}\n"
     ]
    }
   ],
   "source": [
    "\"\"\" 16. Abbiamo due dizionari che assegnano ad ogni proprietario la propria auto:\n",
    "dizionario_auto = {\"Ada\": \"Punto\", \"Ben\": \"Multipla\", \"Charlie\": \"Golf\", \"Debbie\": \"107\", \"Emily\": \"A1\"}\n",
    "nuovi_proprietari = {\"Ben\": \"Polo\", \"Fred\": \"Octavia\", \"Grace\": \"Yaris\", \"Hugh\": \"Clio\"} \n",
    "Aggiornare il dizionario dizionario_auto con i dati contenuti in nuovi_proprietari e stamparlo. Cosa è successo a Ben?\"\"\"\n",
    "\n",
    "dizionario_auto = {\"Ada\": \"Punto\", \"Ben\": \"Multipla\", \"Charlie\": \"Golf\", \"Debbie\": \"107\", \"Emily\": \"A1\"}\n",
    "nuovi_proprietari = {\"Ben\": \"Polo\", \"Fred\": \"Octavia\", \"Grace\": \"Yaris\", \"Hugh\": \"Clio\"}\n",
    "\n",
    "# Aggiorna il dizionario_auto con i nuovi dati da nuovi_proprietari\n",
    "for proprietario, nuova_auto in nuovi_proprietari.items():\n",
    "    if proprietario in dizionario_auto:\n",
    "        print(f\"{proprietario} ha cambiato auto da {dizionario_auto[proprietario]} a {nuova_auto}.\")\n",
    "        dizionario_auto[proprietario] = nuova_auto\n",
    "    else:\n",
    "        print(f\"{proprietario} è un nuovo proprietario con auto {nuova_auto}.\")\n",
    "        dizionario_auto[proprietario] = nuova_auto\n",
    "\n",
    "# Stampa il dizionario_auto aggiornato\n",
    "print(\"Dizionario_auto aggiornato:\", dizionario_auto)\n"
   ]
  },
  {
   "cell_type": "code",
   "execution_count": null,
   "id": "e42dc7ec-0d6f-46d7-82b5-380f3fa04e0c",
   "metadata": {},
   "outputs": [],
   "source": []
  },
  {
   "cell_type": "code",
   "execution_count": null,
   "id": "48c09be8-cd7b-4841-ac18-7085f4afb5b8",
   "metadata": {},
   "outputs": [],
   "source": []
  }
 ],
 "metadata": {
  "kernelspec": {
   "display_name": "Python 3 (ipykernel)",
   "language": "python",
   "name": "python3"
  },
  "language_info": {
   "codemirror_mode": {
    "name": "ipython",
    "version": 3
   },
   "file_extension": ".py",
   "mimetype": "text/x-python",
   "name": "python",
   "nbconvert_exporter": "python",
   "pygments_lexer": "ipython3",
   "version": "3.11.7"
  }
 },
 "nbformat": 4,
 "nbformat_minor": 5
}
