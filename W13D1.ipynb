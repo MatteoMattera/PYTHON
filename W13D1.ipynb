{
 "cells": [
  {
   "cell_type": "markdown",
   "id": "db768b4b-128c-4b7d-9bd8-482c05fcf135",
   "metadata": {
    "jp-MarkdownHeadingCollapsed": true
   },
   "source": [
    "# spesa al supermercato\n",
    "1 Prepara la lista della spesa\n",
    "2 Vai al supermercato\n",
    "3 Prendi La frutta e caricala nel carrello\n",
    "4 Prendi la Verdura e caricala nel carrello\n",
    "5 Prendi il numero per il pane e aspetta il tuo turno\n",
    "6 Prendi il pane e caricali sul carrello\n",
    "7 Prendi il numero della salumeria e aspetta il tuo turno\n",
    "8 Prendi gli affettati e caricali sul carrello\n",
    "9 Prendi la pasta e caricala nel carrello\n",
    "10 Controlla se hai preso tutto ciò che è scritto sulla lista\n",
    "11 se si vai alla cassa paga e carica la spesa nei sacchetti e nel carrello\n",
    "12 se no continua a prendere gli oggetti della lista fino a quando non hai tolto tutte le spunte e vai in seguito alla cassa ,paga,carica nei sacchetti e nel carrello\n",
    "13 torna a casa\n"
   ]
  },
  {
   "cell_type": "markdown",
   "id": "80e28776-2f52-4322-99f7-6dfd08244a97",
   "metadata": {},
   "source": [
    "# Rifornimento Benzina\n",
    "1 Vai in garage ed entra in auto\n",
    "2 Inserisci  la chiave nel motorino di avviamento e gira la chiava\n",
    "3 Se il Display della console dell'auto ti indica di andare a fare benzina tu esegui\n",
    "3.1.1 Accendi l'auto e recati al distributore di benzina più vicino \n",
    "3.1.2 scendi dall'auto apri lo sportello del serbatoio\n",
    "3.1.3 inserisci la banconota nel distributore e fai rifornimento\n",
    "3.1.4 recati al tuo punto di interesse\n",
    "3.2 Altrimenti la benzina è presente nel serbatoio, recati al tuo punto d'interesse"
   ]
  },
  {
   "cell_type": "markdown",
   "id": "e694ef7d-bd09-49c2-9497-593652ebdf0c",
   "metadata": {},
   "source": [
    "# Cottura Pasta\n",
    "1 Domandati per quante persone bisogna preparare il piatto di pasta\n",
    "2 Prendi la quantità di pasta necessaria\n",
    "3 Prendi la pentola e riempila di acqua\n",
    "4 mettila sul fuoco\n",
    "5 Se l'acqua bolle\n",
    "5.1.1 Inserisci la pasta nella pentola \n",
    "5.1.2 Inserisci il sale nella pentola e gira\n",
    "5.1.3 Controlla se la pasta è cotta\n",
    "5.1.4 E' Cotta ?\n",
    "5.2.1 Se Si Scola la pasta \n",
    "5.2.2 Condiscila e servila a tavola\n",
    "5.3 se No attendi che si cuocia e torna al punto 5.2.1\n",
    "6 Altrimenti attendi che bolla e segui il punto 5"
   ]
  },
  {
   "cell_type": "code",
   "execution_count": null,
   "id": "05565c85-5d74-4bc7-90ea-976315e2ca74",
   "metadata": {},
   "outputs": [],
   "source": []
  },
  {
   "cell_type": "code",
   "execution_count": 1,
   "id": "48e2be75-afca-405e-961b-3d36502111a5",
   "metadata": {},
   "outputs": [
    {
     "name": "stdout",
     "output_type": "stream",
     "text": [
      "25\n"
     ]
    }
   ],
   "source": [
    "#\n",
    "numero_studenti = 25\n",
    "#\n",
    "print(numero_studenti)"
   ]
  },
  {
   "cell_type": "code",
   "execution_count": 2,
   "id": "8d8a5a01-08e7-4794-bdc0-af3a9754a3ce",
   "metadata": {},
   "outputs": [
    {
     "data": {
      "text/plain": [
       "25"
      ]
     },
     "execution_count": 2,
     "metadata": {},
     "output_type": "execute_result"
    }
   ],
   "source": [
    "numero_studenti"
   ]
  },
  {
   "cell_type": "code",
   "execution_count": 3,
   "id": "1c5d379f-2d5c-4eee-876b-0fe218fff2f2",
   "metadata": {},
   "outputs": [],
   "source": [
    "#\n",
    "numero_nuovi_studenti = 3"
   ]
  },
  {
   "cell_type": "code",
   "execution_count": 5,
   "id": "0ac14b22-d058-49f1-af05-fd0426c4c387",
   "metadata": {},
   "outputs": [
    {
     "name": "stdout",
     "output_type": "stream",
     "text": [
      "28\n"
     ]
    }
   ],
   "source": [
    "\"\"\" Abbiamo 25 studenti; memorizzare questo dato in una variabile. \n",
    "Arrivano altri 3 studenti; memorizzare questo dato in un'altra variabile.\"\"\"\n",
    "\n",
    "numero_totale_studenti = numero_studenti + numero_nuovi_studenti\n",
    "print(numero_totale_studenti)"
   ]
  },
  {
   "cell_type": "code",
   "execution_count": 6,
   "id": "56e25974-0cb7-443a-bbd1-a694d5b0ec48",
   "metadata": {},
   "outputs": [
    {
     "name": "stdout",
     "output_type": "stream",
     "text": [
      "Epicode\n"
     ]
    }
   ],
   "source": [
    "#Creare una variabile che contiene la stringa \"Epicode\", quindi stamparla a video\n",
    "nome = \"Epicode\"\n",
    "print(nome)"
   ]
  },
  {
   "cell_type": "code",
   "execution_count": 7,
   "id": "7cc85386-8a68-4667-9552-8ad091eb1750",
   "metadata": {},
   "outputs": [
    {
     "name": "stdout",
     "output_type": "stream",
     "text": [
      "36\n"
     ]
    }
   ],
   "source": [
    "\"\"\" Abbiamo la variabile: x = 10 Incrementarla di 2 e poi moltiplicarla per 3\n",
    "Usare due metodi diversi (ad esempio, uno utilizzando gli operatori di assegnazione, e uno senza)\"\"\"\n",
    "\n",
    "x = 10\n",
    "y = (x + 2) * 3\n",
    "print(y)"
   ]
  },
  {
   "cell_type": "code",
   "execution_count": 8,
   "id": "fb66be66-1970-47a3-b5c8-d5e2fcaa0550",
   "metadata": {},
   "outputs": [
    {
     "name": "stdout",
     "output_type": "stream",
     "text": [
      "36\n"
     ]
    }
   ],
   "source": [
    "print((x + 2) * 3)"
   ]
  },
  {
   "cell_type": "code",
   "execution_count": 11,
   "id": "31dad59a-1e04-4e5f-90e4-c9dc0ed9d46c",
   "metadata": {},
   "outputs": [
    {
     "name": "stdout",
     "output_type": "stream",
     "text": [
      "compreso\n"
     ]
    }
   ],
   "source": [
    "\"\"\" Verificare, per ognuna delle seguenti stringhe, se il numero di caratteri è compreso tra 5 e 8: \n",
    "• str1 = \"Windows\" • str2 = \"Excel\" • str3 = \"Powerpoint\" • str4 = \"Word\" \"\"\"\n",
    "\n",
    "str1 = \"Windows\"\n",
    "if len(str1) >= 5 and len(str1) <= 8 :\n",
    "    print(\"compreso\")\n",
    "else :\n",
    "    print(\"non compreso\")"
   ]
  },
  {
   "cell_type": "code",
   "execution_count": null,
   "id": "f51cb472-0806-4e4d-bc90-449820dc8d53",
   "metadata": {},
   "outputs": [],
   "source": [
    "str1 = \"Word\"\n",
    "if len(str1) >= 5 and len(str1) <= 8 :\n",
    "    print(\"compreso\")\n",
    "else :\n",
    "    print(\"non compreso\")\n",
    "\n"
   ]
  },
  {
   "cell_type": "code",
   "execution_count": 14,
   "id": "8d6b07c2-d72d-48a4-ae4c-c0bf4c359f05",
   "metadata": {},
   "outputs": [
    {
     "name": "stdout",
     "output_type": "stream",
     "text": [
      "non compreso\n"
     ]
    }
   ],
   "source": [
    "str1 = \"Power Point \"\n",
    "if len(str1) >= 5 and len(str1) <= 8 :\n",
    "    print(\"compreso\")\n",
    "else :\n",
    "    print(\"non compreso\")\n"
   ]
  },
  {
   "cell_type": "code",
   "execution_count": 39,
   "id": "4661d166-710e-465d-a5d1-6807b822bf78",
   "metadata": {},
   "outputs": [
    {
     "name": "stdout",
     "output_type": "stream",
     "text": [
      "Windows compreso\n",
      "Excel compreso\n",
      "Power Point non compreso\n",
      "Word non compreso\n"
     ]
    }
   ],
   "source": [
    "#utilizzo ciclo for\n",
    "lista_parole = [\"Windows\", \"Excel\", \"Power Point\", \"Word\"]\n",
    "for parola in lista_parole:\n",
    "    if 5 <= len(parola) <= 8:\n",
    "        print(parola + \" \" + \"compreso\")\n",
    "    else:\n",
    "        print(parola + \" \" + \"non compreso\")"
   ]
  },
  {
   "cell_type": "code",
   "execution_count": 18,
   "id": "af34bbb6-510e-4a9e-8e81-49e27dd66005",
   "metadata": {},
   "outputs": [
    {
     "name": "stdout",
     "output_type": "stream",
     "text": [
      " i secondi in un anno non bisestile sono  31622400\n"
     ]
    }
   ],
   "source": [
    "# Calcolare e stampare a video quanti secondi ci sono in un anno non bisestile.\n",
    "\n",
    "secondi = 60*60*24*366\n",
    "print (\" i secondi in un anno non bisestile sono \", secondi)"
   ]
  },
  {
   "cell_type": "code",
   "execution_count": 16,
   "id": "54628118-2b44-47a7-ad67-e8ba626ced40",
   "metadata": {},
   "outputs": [
    {
     "data": {
      "text/plain": [
       "' I AM STUDYNG PYTHON'"
      ]
     },
     "execution_count": 16,
     "metadata": {},
     "output_type": "execute_result"
    }
   ],
   "source": [
    "\"\"\" Abbiamo la seguente stringa: my_string = \"I am studying Python\"\n",
    "• Trasformarla in modo che tutti i caratteri siano maiuscoli (uppercase)\"\"\"\n",
    "\n",
    "my_string = \" I am studyng Python\"\n",
    "my_string.upper()"
   ]
  },
  {
   "cell_type": "code",
   "execution_count": 17,
   "id": "7e93bbbb-c2d3-4843-bdaa-1135e26c4197",
   "metadata": {},
   "outputs": [
    {
     "data": {
      "text/plain": [
       "' i am studyng python'"
      ]
     },
     "execution_count": 17,
     "metadata": {},
     "output_type": "execute_result"
    }
   ],
   "source": [
    "# Trasformarla in modo che tutti i caratteri siano minuscoli (lowercase)\n",
    "my_string.lower()"
   ]
  },
  {
   "cell_type": "code",
   "execution_count": 48,
   "id": "ffdf727b-06ac-4112-9a5e-ca79392c9613",
   "metadata": {},
   "outputs": [
    {
     "name": "stdout",
     "output_type": "stream",
     "text": [
      "I am studying a lot\n"
     ]
    }
   ],
   "source": [
    "# Sostituire la sottostringa \"Python\" con la stringa \"a lot\"\n",
    "\n",
    "my_string = \"I am studying Python\"\n",
    "my_string_nuova = my_string.replace(\"Python\", \"a lot\")\n",
    "print(my_string_nuova)\n",
    "\n"
   ]
  },
  {
   "cell_type": "code",
   "execution_count": 49,
   "id": "7dd1aa1c-60db-45dd-8b80-085288af6b18",
   "metadata": {},
   "outputs": [
    {
     "data": {
      "text/plain": [
       "'I am studying Python'"
      ]
     },
     "execution_count": 49,
     "metadata": {},
     "output_type": "execute_result"
    }
   ],
   "source": [
    "# Usare il metodo .strip(); cambia qualcosa? Perché?\n",
    "my_string.strip(\" \")"
   ]
  },
  {
   "cell_type": "code",
   "execution_count": null,
   "id": "ad02a5ff-5441-45cf-bb7f-7ea6fbd7568e",
   "metadata": {},
   "outputs": [],
   "source": []
  }
 ],
 "metadata": {
  "kernelspec": {
   "display_name": "Python 3 (ipykernel)",
   "language": "python",
   "name": "python3"
  },
  "language_info": {
   "codemirror_mode": {
    "name": "ipython",
    "version": 3
   },
   "file_extension": ".py",
   "mimetype": "text/x-python",
   "name": "python",
   "nbconvert_exporter": "python",
   "pygments_lexer": "ipython3",
   "version": "3.11.7"
  }
 },
 "nbformat": 4,
 "nbformat_minor": 5
}
