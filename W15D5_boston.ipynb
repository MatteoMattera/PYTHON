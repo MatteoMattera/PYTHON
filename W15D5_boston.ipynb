{
 "cells": [
  {
   "cell_type": "code",
   "execution_count": 1,
   "id": "bb37561d-a2c4-4cb5-8ee1-ffa040297724",
   "metadata": {},
   "outputs": [],
   "source": [
    "import pandas as pd\n",
    "import numpy as np"
   ]
  },
  {
   "cell_type": "code",
   "execution_count": 2,
   "id": "78387224-1bc4-49e3-b494-78249b3464f5",
   "metadata": {},
   "outputs": [
    {
     "data": {
      "text/html": [
       "<div>\n",
       "<style scoped>\n",
       "    .dataframe tbody tr th:only-of-type {\n",
       "        vertical-align: middle;\n",
       "    }\n",
       "\n",
       "    .dataframe tbody tr th {\n",
       "        vertical-align: top;\n",
       "    }\n",
       "\n",
       "    .dataframe thead th {\n",
       "        text-align: right;\n",
       "    }\n",
       "</style>\n",
       "<table border=\"1\" class=\"dataframe\">\n",
       "  <thead>\n",
       "    <tr style=\"text-align: right;\">\n",
       "      <th></th>\n",
       "      <th>crim</th>\n",
       "      <th>zn</th>\n",
       "      <th>indus</th>\n",
       "      <th>chas</th>\n",
       "      <th>nox</th>\n",
       "      <th>rm</th>\n",
       "      <th>age</th>\n",
       "      <th>dis</th>\n",
       "      <th>rad</th>\n",
       "      <th>tax</th>\n",
       "      <th>ptratio</th>\n",
       "      <th>black</th>\n",
       "      <th>lstat</th>\n",
       "      <th>medv</th>\n",
       "    </tr>\n",
       "  </thead>\n",
       "  <tbody>\n",
       "    <tr>\n",
       "      <th>0</th>\n",
       "      <td>0.00632</td>\n",
       "      <td>18.0</td>\n",
       "      <td>2.31</td>\n",
       "      <td>0</td>\n",
       "      <td>0.538</td>\n",
       "      <td>6.575</td>\n",
       "      <td>65.2</td>\n",
       "      <td>4.0900</td>\n",
       "      <td>1</td>\n",
       "      <td>296</td>\n",
       "      <td>15.3</td>\n",
       "      <td>396.90</td>\n",
       "      <td>4.98</td>\n",
       "      <td>24.0</td>\n",
       "    </tr>\n",
       "    <tr>\n",
       "      <th>1</th>\n",
       "      <td>0.02731</td>\n",
       "      <td>0.0</td>\n",
       "      <td>7.07</td>\n",
       "      <td>0</td>\n",
       "      <td>0.469</td>\n",
       "      <td>6.421</td>\n",
       "      <td>78.9</td>\n",
       "      <td>4.9671</td>\n",
       "      <td>2</td>\n",
       "      <td>242</td>\n",
       "      <td>17.8</td>\n",
       "      <td>396.90</td>\n",
       "      <td>9.14</td>\n",
       "      <td>21.6</td>\n",
       "    </tr>\n",
       "    <tr>\n",
       "      <th>2</th>\n",
       "      <td>0.02729</td>\n",
       "      <td>0.0</td>\n",
       "      <td>7.07</td>\n",
       "      <td>0</td>\n",
       "      <td>0.469</td>\n",
       "      <td>7.185</td>\n",
       "      <td>61.1</td>\n",
       "      <td>4.9671</td>\n",
       "      <td>2</td>\n",
       "      <td>242</td>\n",
       "      <td>17.8</td>\n",
       "      <td>392.83</td>\n",
       "      <td>4.03</td>\n",
       "      <td>34.7</td>\n",
       "    </tr>\n",
       "    <tr>\n",
       "      <th>3</th>\n",
       "      <td>0.03237</td>\n",
       "      <td>0.0</td>\n",
       "      <td>2.18</td>\n",
       "      <td>0</td>\n",
       "      <td>0.458</td>\n",
       "      <td>6.998</td>\n",
       "      <td>45.8</td>\n",
       "      <td>6.0622</td>\n",
       "      <td>3</td>\n",
       "      <td>222</td>\n",
       "      <td>18.7</td>\n",
       "      <td>394.63</td>\n",
       "      <td>2.94</td>\n",
       "      <td>33.4</td>\n",
       "    </tr>\n",
       "    <tr>\n",
       "      <th>4</th>\n",
       "      <td>0.06905</td>\n",
       "      <td>0.0</td>\n",
       "      <td>2.18</td>\n",
       "      <td>0</td>\n",
       "      <td>0.458</td>\n",
       "      <td>7.147</td>\n",
       "      <td>54.2</td>\n",
       "      <td>6.0622</td>\n",
       "      <td>3</td>\n",
       "      <td>222</td>\n",
       "      <td>18.7</td>\n",
       "      <td>396.90</td>\n",
       "      <td>5.33</td>\n",
       "      <td>36.2</td>\n",
       "    </tr>\n",
       "    <tr>\n",
       "      <th>...</th>\n",
       "      <td>...</td>\n",
       "      <td>...</td>\n",
       "      <td>...</td>\n",
       "      <td>...</td>\n",
       "      <td>...</td>\n",
       "      <td>...</td>\n",
       "      <td>...</td>\n",
       "      <td>...</td>\n",
       "      <td>...</td>\n",
       "      <td>...</td>\n",
       "      <td>...</td>\n",
       "      <td>...</td>\n",
       "      <td>...</td>\n",
       "      <td>...</td>\n",
       "    </tr>\n",
       "    <tr>\n",
       "      <th>501</th>\n",
       "      <td>0.06263</td>\n",
       "      <td>0.0</td>\n",
       "      <td>11.93</td>\n",
       "      <td>0</td>\n",
       "      <td>0.573</td>\n",
       "      <td>6.593</td>\n",
       "      <td>69.1</td>\n",
       "      <td>2.4786</td>\n",
       "      <td>1</td>\n",
       "      <td>273</td>\n",
       "      <td>21.0</td>\n",
       "      <td>391.99</td>\n",
       "      <td>9.67</td>\n",
       "      <td>22.4</td>\n",
       "    </tr>\n",
       "    <tr>\n",
       "      <th>502</th>\n",
       "      <td>0.04527</td>\n",
       "      <td>0.0</td>\n",
       "      <td>11.93</td>\n",
       "      <td>0</td>\n",
       "      <td>0.573</td>\n",
       "      <td>6.120</td>\n",
       "      <td>76.7</td>\n",
       "      <td>2.2875</td>\n",
       "      <td>1</td>\n",
       "      <td>273</td>\n",
       "      <td>21.0</td>\n",
       "      <td>396.90</td>\n",
       "      <td>9.08</td>\n",
       "      <td>20.6</td>\n",
       "    </tr>\n",
       "    <tr>\n",
       "      <th>503</th>\n",
       "      <td>0.06076</td>\n",
       "      <td>0.0</td>\n",
       "      <td>11.93</td>\n",
       "      <td>0</td>\n",
       "      <td>0.573</td>\n",
       "      <td>6.976</td>\n",
       "      <td>91.0</td>\n",
       "      <td>2.1675</td>\n",
       "      <td>1</td>\n",
       "      <td>273</td>\n",
       "      <td>21.0</td>\n",
       "      <td>396.90</td>\n",
       "      <td>5.64</td>\n",
       "      <td>23.9</td>\n",
       "    </tr>\n",
       "    <tr>\n",
       "      <th>504</th>\n",
       "      <td>0.10959</td>\n",
       "      <td>0.0</td>\n",
       "      <td>11.93</td>\n",
       "      <td>0</td>\n",
       "      <td>0.573</td>\n",
       "      <td>6.794</td>\n",
       "      <td>89.3</td>\n",
       "      <td>2.3889</td>\n",
       "      <td>1</td>\n",
       "      <td>273</td>\n",
       "      <td>21.0</td>\n",
       "      <td>393.45</td>\n",
       "      <td>6.48</td>\n",
       "      <td>22.0</td>\n",
       "    </tr>\n",
       "    <tr>\n",
       "      <th>505</th>\n",
       "      <td>0.04741</td>\n",
       "      <td>0.0</td>\n",
       "      <td>11.93</td>\n",
       "      <td>0</td>\n",
       "      <td>0.573</td>\n",
       "      <td>6.030</td>\n",
       "      <td>80.8</td>\n",
       "      <td>2.5050</td>\n",
       "      <td>1</td>\n",
       "      <td>273</td>\n",
       "      <td>21.0</td>\n",
       "      <td>396.90</td>\n",
       "      <td>7.88</td>\n",
       "      <td>11.9</td>\n",
       "    </tr>\n",
       "  </tbody>\n",
       "</table>\n",
       "<p>506 rows × 14 columns</p>\n",
       "</div>"
      ],
      "text/plain": [
       "        crim    zn  indus  chas    nox     rm   age     dis  rad  tax  \\\n",
       "0    0.00632  18.0   2.31     0  0.538  6.575  65.2  4.0900    1  296   \n",
       "1    0.02731   0.0   7.07     0  0.469  6.421  78.9  4.9671    2  242   \n",
       "2    0.02729   0.0   7.07     0  0.469  7.185  61.1  4.9671    2  242   \n",
       "3    0.03237   0.0   2.18     0  0.458  6.998  45.8  6.0622    3  222   \n",
       "4    0.06905   0.0   2.18     0  0.458  7.147  54.2  6.0622    3  222   \n",
       "..       ...   ...    ...   ...    ...    ...   ...     ...  ...  ...   \n",
       "501  0.06263   0.0  11.93     0  0.573  6.593  69.1  2.4786    1  273   \n",
       "502  0.04527   0.0  11.93     0  0.573  6.120  76.7  2.2875    1  273   \n",
       "503  0.06076   0.0  11.93     0  0.573  6.976  91.0  2.1675    1  273   \n",
       "504  0.10959   0.0  11.93     0  0.573  6.794  89.3  2.3889    1  273   \n",
       "505  0.04741   0.0  11.93     0  0.573  6.030  80.8  2.5050    1  273   \n",
       "\n",
       "     ptratio   black  lstat  medv  \n",
       "0       15.3  396.90   4.98  24.0  \n",
       "1       17.8  396.90   9.14  21.6  \n",
       "2       17.8  392.83   4.03  34.7  \n",
       "3       18.7  394.63   2.94  33.4  \n",
       "4       18.7  396.90   5.33  36.2  \n",
       "..       ...     ...    ...   ...  \n",
       "501     21.0  391.99   9.67  22.4  \n",
       "502     21.0  396.90   9.08  20.6  \n",
       "503     21.0  396.90   5.64  23.9  \n",
       "504     21.0  393.45   6.48  22.0  \n",
       "505     21.0  396.90   7.88  11.9  \n",
       "\n",
       "[506 rows x 14 columns]"
      ]
     },
     "execution_count": 2,
     "metadata": {},
     "output_type": "execute_result"
    }
   ],
   "source": [
    "file_path = \"../Python/beginner datasets/boston.csv\"\n",
    "df = pd.read_csv(file_path)\n",
    "df"
   ]
  },
  {
   "cell_type": "raw",
   "id": "c8f60797-3a16-4d53-95f0-05acab877706",
   "metadata": {},
   "source": [
    "# Descrizione colonne\n",
    "CRIM - tasso di criminalità pro capite per città\n",
    "ZN - proporzione di terreni residenziali suddivisi in zone per lotti superiori a 25.000 piedi quadrati.\n",
    "INDUS - percentuale di acri di attività commerciali non al dettaglio per città.\n",
    "CHAS - variabile dummy del fiume Charles (1 se il tratto costeggia il fiume; 0 altrimenti\n",
    "NOX - concentrazione di ossidi di azoto (parti per 10 milioni).\n",
    "RM - numero medio di stanze per abitazione \n",
    "AGE - proporzione di unità abitative occupate da proprietari costruite prima del 1940 \n",
    "DIS - distanze ponderate da cinque centri occupazionali di Boston \n",
    "RAD - indice di accessibilità alle autostrade radiali \n",
    "TAX - aliquota dell'imposta fondiaria sul valore pieno per 10.000 dollari \n",
    "PTRATIO - rapporto alunni-insegnanti per città \n",
    "BLACK - la percentuale di neri per città \n",
    "LSTAT - % di popolazione di condizione più bassa\n",
    "MEDV - Valore mediano delle case, espresso in migliaia di dollari"
   ]
  },
  {
   "cell_type": "code",
   "execution_count": 12,
   "id": "90b99c65-6768-4eb8-90d7-8d6f9ea391e0",
   "metadata": {},
   "outputs": [
    {
     "name": "stdout",
     "output_type": "stream",
     "text": [
      "chas\n",
      "0    22.093843\n",
      "1    28.440000\n",
      "Name: medv, dtype: float64\n"
     ]
    }
   ],
   "source": [
    "# La media del prezzo delle case cambia a seconda della distanza dal fiume Charles?\n",
    "rapp_prezzo_distanza = df.groupby(\"chas\")[\"medv\"].mean()\n",
    "print(rapp_prezzo_distanza)"
   ]
  },
  {
   "cell_type": "code",
   "execution_count": 21,
   "id": "d9d09c71-368d-4c18-9495-c048f842dd95",
   "metadata": {},
   "outputs": [
    {
     "name": "stdout",
     "output_type": "stream",
     "text": [
      "Correlazione tra crim e medv: -0.38830460858681165 \n",
      "Questo valore indica una correlazione negativa tra il tasso di criminalità e il valore delle abitazioni.\n",
      "Esiste una tendenza leggermente negativa: quando il tasso di criminalità aumenta, il valore delle abitazioni tende a diminuire, e viceversa.\n"
     ]
    }
   ],
   "source": [
    "#Si nota una correlazione tra il tasso di criminalità e il valore delle abitazioni? Come si può spiegare il risultato?\n",
    "correlazione = df['crim'].corr(df['medv'])\n",
    "print(\"Correlazione tra crim e medv:\", correlazione, \"\\nQuesto valore indica una correlazione negativa tra il tasso di criminalità e il valore delle abitazioni.\\nEsiste una tendenza leggermente negativa: quando il tasso di criminalità aumenta, il valore delle abitazioni tende a diminuire, e viceversa.\") "
   ]
  },
  {
   "cell_type": "code",
   "execution_count": 22,
   "id": "8bd8d425-acb5-47c1-aaff-0ec059d1b616",
   "metadata": {},
   "outputs": [
    {
     "data": {
      "text/plain": [
       "<Axes: xlabel='crim', ylabel='medv'>"
      ]
     },
     "execution_count": 22,
     "metadata": {},
     "output_type": "execute_result"
    },
    {
     "data": {
      "image/png": "[encoded data removed]",
      "text/plain": [
       "<Figure size 640x480 with 1 Axes>"
      ]
     },
     "metadata": {},
     "output_type": "display_data"
    }
   ],
   "source": [
    "df.loc[:,[\"crim\",\"medv\"]].plot.scatter(x = \"crim\", y = \"medv\")"
   ]
  },
  {
   "cell_type": "code",
   "execution_count": 37,
   "id": "b613791d-8c19-4a8b-8429-7b0c60215dac",
   "metadata": {},
   "outputs": [
    {
     "name": "stdout",
     "output_type": "stream",
     "text": [
      "Media delle stanze rispetto al rapporto alunni-insegnanti: \n",
      " ptratio\n",
      "12.6    7.0\n",
      "13.0    7.0\n",
      "13.6    8.0\n",
      "14.4    8.0\n",
      "14.7    6.0\n",
      "14.8    7.0\n",
      "14.9    7.0\n",
      "15.1    7.0\n",
      "15.2    6.0\n",
      "15.3    7.0\n",
      "15.5    7.0\n",
      "15.6    7.0\n",
      "15.9    7.0\n",
      "16.0    6.0\n",
      "16.1    6.0\n",
      "16.4    6.0\n",
      "16.6    6.0\n",
      "16.8    6.0\n",
      "16.9    6.0\n",
      "17.0    7.0\n",
      "17.3    6.0\n",
      "17.4    7.0\n",
      "17.6    7.0\n",
      "17.8    6.0\n",
      "17.9    6.0\n",
      "18.0    7.0\n",
      "18.2    6.0\n",
      "18.3    7.0\n",
      "18.4    6.0\n",
      "18.5    6.0\n",
      "18.6    6.0\n",
      "18.7    6.0\n",
      "18.8    6.0\n",
      "18.9    6.0\n",
      "19.0    6.0\n",
      "19.1    6.0\n",
      "19.2    6.0\n",
      "19.6    6.0\n",
      "19.7    6.0\n",
      "20.1    6.0\n",
      "20.2    6.0\n",
      "20.9    6.0\n",
      "21.0    6.0\n",
      "21.1    6.0\n",
      "21.2    6.0\n",
      "22.0    6.0\n",
      "Name: rm, dtype: float64\n"
     ]
    }
   ],
   "source": [
    "# Qual è la media del numero di stanze rispetto al rapporto alunni-insegnanti? \n",
    "rapp_stanze_aluins = df.groupby(\"ptratio\")[\"rm\"].mean().round()\n",
    "print(\"Media delle stanze rispetto al rapporto alunni-insegnanti:\", \"\\n\", rapp_stanze_aluins)"
   ]
  },
  {
   "cell_type": "code",
   "execution_count": 50,
   "id": "618b4c41-6402-45bd-93a3-0d917d50c3e6",
   "metadata": {},
   "outputs": [
    {
     "data": {
      "text/plain": [
       "<Axes: ylabel='Frequency'>"
      ]
     },
     "execution_count": 50,
     "metadata": {},
     "output_type": "execute_result"
    },
    {
     "data": {
      "image/png": "[encoded data removed]",
      "text/plain": [
       "<Figure size 640x480 with 1 Axes>"
      ]
     },
     "metadata": {},
     "output_type": "display_data"
    }
   ],
   "source": [
    "df.loc[:,[\"ptratio\",\"rm\"]].plot.hist(x = \"ptratio\", y = \"rm\")"
   ]
  },
  {
   "cell_type": "code",
   "execution_count": 39,
   "id": "c5023ab2-dfcc-49d7-8114-f53d6f85ec51",
   "metadata": {},
   "outputs": [
    {
     "name": "stdout",
     "output_type": "stream",
     "text": [
      "medv\n",
      "5.0     5.5680\n",
      "5.6     5.9870\n",
      "6.3     5.8520\n",
      "7.0     4.9665\n",
      "7.2     6.0180\n",
      "         ...  \n",
      "46.7    7.6860\n",
      "48.3    8.2470\n",
      "48.5    7.8530\n",
      "48.8    8.3980\n",
      "50.0    7.4840\n",
      "Name: rm, Length: 229, dtype: float64\n"
     ]
    }
   ],
   "source": [
    "# E del valore delle case?\n",
    "rapp_stanze_aluins = df.groupby(\"medv\")[\"rm\"].mean().round()\n",
    "print(rapp_stanze_aluins)\n"
   ]
  },
  {
   "cell_type": "code",
   "execution_count": 48,
   "id": "c5875096-7fbd-4e3c-9028-e578852528be",
   "metadata": {},
   "outputs": [
    {
     "data": {
      "text/plain": [
       "<Axes: ylabel='Frequency'>"
      ]
     },
     "execution_count": 48,
     "metadata": {},
     "output_type": "execute_result"
    },
    {
     "data": {
      "image/png": "[encoded data removed]",
      "text/plain": [
       "<Figure size 640x480 with 1 Axes>"
      ]
     },
     "metadata": {},
     "output_type": "display_data"
    }
   ],
   "source": [
    "df.loc[:,[\"medv\",\"rm\"]].plot.hist(x = \"medv\", y = \"rm\")"
   ]
  },
  {
   "cell_type": "code",
   "execution_count": 28,
   "id": "c018ce71-08fa-4752-9b49-250898bfbdbe",
   "metadata": {},
   "outputs": [
    {
     "name": "stdout",
     "output_type": "stream",
     "text": [
      "-0.5077866855375622\n"
     ]
    }
   ],
   "source": [
    "#Appare esserci una qualche correlazione? Come si può spiegare il risultato?\n",
    "\n",
    "correlazione = df['ptratio'].corr(df['medv'])"
   ]
  },
  {
   "cell_type": "code",
   "execution_count": 34,
   "id": "bdd0fa75-56b9-4873-9818-559405ac1935",
   "metadata": {},
   "outputs": [
    {
     "name": "stdout",
     "output_type": "stream",
     "text": [
      "tax  rm     age \n",
      "187  6.728  36.1    5.0\n",
      "188  5.613  95.6    2.0\n",
      "     5.856  97.0    2.0\n",
      "     5.870  69.7    2.0\n",
      "     5.879  95.8    2.0\n",
      "                   ... \n",
      "711  5.093  98.0    4.0\n",
      "     5.414  98.3    4.0\n",
      "     5.454  92.7    4.0\n",
      "     5.983  83.5    4.0\n",
      "            98.8    4.0\n",
      "Name: rad, Length: 505, dtype: float64\n"
     ]
    }
   ],
   "source": [
    "# Rispetto all'accessibilità alle autostrade, cambia qualcosa la media delle età delle abitazioni? E del numero di stanze? E delle tasse?\n",
    "acc_autos = df.groupby([\"tax\", \"rm\", \"age\"])[\"rad\"].mean()\n",
    "print(acc_autos)"
   ]
  },
  {
   "cell_type": "code",
   "execution_count": null,
   "id": "370c5809-82bf-4850-8119-618cb26731e4",
   "metadata": {},
   "outputs": [],
   "source": []
  }
 ],
 "metadata": {
  "kernelspec": {
   "display_name": "Python 3 (ipykernel)",
   "language": "python",
   "name": "python3"
  },
  "language_info": {
   "codemirror_mode": {
    "name": "ipython",
    "version": 3
   },
   "file_extension": ".py",
   "mimetype": "text/x-python",
   "name": "python",
   "nbconvert_exporter": "python",
   "pygments_lexer": "ipython3",
   "version": "3.11.7"
  }
 },
 "nbformat": 4,
 "nbformat_minor": 5
}
