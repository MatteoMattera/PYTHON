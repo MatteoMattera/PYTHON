{
 "cells": [
  {
   "cell_type": "code",
   "execution_count": 44,
   "id": "e8a0191c-80a2-4e31-8969-d75fdbef574c",
   "metadata": {},
   "outputs": [],
   "source": [
    "import pandas as pd\n",
    "import numpy as np"
   ]
  },
  {
   "cell_type": "code",
   "execution_count": 3,
   "id": "0263c79f-fa90-468f-94c6-773b8d211b81",
   "metadata": {},
   "outputs": [
    {
     "data": {
      "text/html": [
       "<div>\n",
       "<style scoped>\n",
       "    .dataframe tbody tr th:only-of-type {\n",
       "        vertical-align: middle;\n",
       "    }\n",
       "\n",
       "    .dataframe tbody tr th {\n",
       "        vertical-align: top;\n",
       "    }\n",
       "\n",
       "    .dataframe thead th {\n",
       "        text-align: right;\n",
       "    }\n",
       "</style>\n",
       "<table border=\"1\" class=\"dataframe\">\n",
       "  <thead>\n",
       "    <tr style=\"text-align: right;\">\n",
       "      <th></th>\n",
       "      <th>ccomune</th>\n",
       "      <th>cprovincia</th>\n",
       "      <th>cregione</th>\n",
       "      <th>cnome</th>\n",
       "      <th>canno_inserimento</th>\n",
       "      <th>cdata_e_ora_inserimento</th>\n",
       "      <th>cidentificatore_in_openstreetmap</th>\n",
       "      <th>clongitudine</th>\n",
       "      <th>clatitudine</th>\n",
       "    </tr>\n",
       "  </thead>\n",
       "  <tbody>\n",
       "    <tr>\n",
       "      <th>0</th>\n",
       "      <td>ALTRO</td>\n",
       "      <td>ALTRO</td>\n",
       "      <td>ALTRO</td>\n",
       "      <td></td>\n",
       "      <td>2011</td>\n",
       "      <td>2011-06-25T23:17:43Z</td>\n",
       "      <td>1339088150</td>\n",
       "      <td>13.733257</td>\n",
       "      <td>45.575830</td>\n",
       "    </tr>\n",
       "    <tr>\n",
       "      <th>1</th>\n",
       "      <td>ALTRO</td>\n",
       "      <td>ALTRO</td>\n",
       "      <td>ALTRO</td>\n",
       "      <td>Lenny's Pub</td>\n",
       "      <td>2011</td>\n",
       "      <td>2011-07-29T17:22:56Z</td>\n",
       "      <td>1375887295</td>\n",
       "      <td>12.418681</td>\n",
       "      <td>46.747584</td>\n",
       "    </tr>\n",
       "    <tr>\n",
       "      <th>2</th>\n",
       "      <td>ALTRO</td>\n",
       "      <td>ALTRO</td>\n",
       "      <td>ALTRO</td>\n",
       "      <td>Murrayfield Pub</td>\n",
       "      <td>2015</td>\n",
       "      <td>2015-10-24T09:28:06Z</td>\n",
       "      <td>3323888102</td>\n",
       "      <td>9.029585</td>\n",
       "      <td>45.831340</td>\n",
       "    </tr>\n",
       "    <tr>\n",
       "      <th>3</th>\n",
       "      <td>ALTRO</td>\n",
       "      <td>ALTRO</td>\n",
       "      <td>ALTRO</td>\n",
       "      <td>Snop?e</td>\n",
       "      <td>2010</td>\n",
       "      <td>2010-09-22T08:32:52Z</td>\n",
       "      <td>921157802</td>\n",
       "      <td>13.640939</td>\n",
       "      <td>45.954607</td>\n",
       "    </tr>\n",
       "    <tr>\n",
       "      <th>4</th>\n",
       "      <td>Ala di Stura</td>\n",
       "      <td>TORINO</td>\n",
       "      <td>Piemonte</td>\n",
       "      <td></td>\n",
       "      <td>2012</td>\n",
       "      <td>2012-05-21T14:28:45Z</td>\n",
       "      <td>1760949034</td>\n",
       "      <td>7.307306</td>\n",
       "      <td>45.313150</td>\n",
       "    </tr>\n",
       "    <tr>\n",
       "      <th>...</th>\n",
       "      <td>...</td>\n",
       "      <td>...</td>\n",
       "      <td>...</td>\n",
       "      <td>...</td>\n",
       "      <td>...</td>\n",
       "      <td>...</td>\n",
       "      <td>...</td>\n",
       "      <td>...</td>\n",
       "      <td>...</td>\n",
       "    </tr>\n",
       "    <tr>\n",
       "      <th>2492</th>\n",
       "      <td>Barletta (BT)</td>\n",
       "      <td>BARLETTA ANDRIA TRANI</td>\n",
       "      <td>Puglia</td>\n",
       "      <td>Santa Croce</td>\n",
       "      <td>2010</td>\n",
       "      <td>2010-01-17T16:15:08Z</td>\n",
       "      <td>615632993</td>\n",
       "      <td>16.285782</td>\n",
       "      <td>41.320671</td>\n",
       "    </tr>\n",
       "    <tr>\n",
       "      <th>2493</th>\n",
       "      <td>Bisceglie (BT)</td>\n",
       "      <td>BARLETTA ANDRIA TRANI</td>\n",
       "      <td>Puglia</td>\n",
       "      <td>Auld Dublin</td>\n",
       "      <td>2014</td>\n",
       "      <td>2014-03-03T20:56:16Z</td>\n",
       "      <td>2613737619</td>\n",
       "      <td>16.497204</td>\n",
       "      <td>41.241814</td>\n",
       "    </tr>\n",
       "    <tr>\n",
       "      <th>2494</th>\n",
       "      <td>Bisceglie (BT)</td>\n",
       "      <td>BARLETTA ANDRIA TRANI</td>\n",
       "      <td>Puglia</td>\n",
       "      <td>Ferus</td>\n",
       "      <td>2014</td>\n",
       "      <td>2014-01-07T19:22:18Z</td>\n",
       "      <td>2613737620</td>\n",
       "      <td>16.506175</td>\n",
       "      <td>41.240957</td>\n",
       "    </tr>\n",
       "    <tr>\n",
       "      <th>2495</th>\n",
       "      <td>Trani (BT)</td>\n",
       "      <td>BARLETTA ANDRIA TRANI</td>\n",
       "      <td>Puglia</td>\n",
       "      <td>Re Artù</td>\n",
       "      <td>2009</td>\n",
       "      <td>2009-09-04T07:57:05Z</td>\n",
       "      <td>482836935</td>\n",
       "      <td>16.418124</td>\n",
       "      <td>41.281518</td>\n",
       "    </tr>\n",
       "    <tr>\n",
       "      <th>2496</th>\n",
       "      <td>Trani (BT)</td>\n",
       "      <td>BARLETTA ANDRIA TRANI</td>\n",
       "      <td>Puglia</td>\n",
       "      <td>Well's Fargo</td>\n",
       "      <td>2009</td>\n",
       "      <td>2009-08-10T12:44:03Z</td>\n",
       "      <td>387223648</td>\n",
       "      <td>16.436765</td>\n",
       "      <td>41.267264</td>\n",
       "    </tr>\n",
       "  </tbody>\n",
       "</table>\n",
       "<p>2497 rows × 9 columns</p>\n",
       "</div>"
      ],
      "text/plain": [
       "             ccomune             cprovincia  cregione            cnome  \\\n",
       "0              ALTRO                  ALTRO     ALTRO                    \n",
       "1              ALTRO                  ALTRO     ALTRO      Lenny's Pub   \n",
       "2              ALTRO                  ALTRO     ALTRO  Murrayfield Pub   \n",
       "3              ALTRO                  ALTRO     ALTRO           Snop?e   \n",
       "4       Ala di Stura                 TORINO  Piemonte                    \n",
       "...              ...                    ...       ...              ...   \n",
       "2492   Barletta (BT)  BARLETTA ANDRIA TRANI    Puglia      Santa Croce   \n",
       "2493  Bisceglie (BT)  BARLETTA ANDRIA TRANI    Puglia      Auld Dublin   \n",
       "2494  Bisceglie (BT)  BARLETTA ANDRIA TRANI    Puglia            Ferus   \n",
       "2495      Trani (BT)  BARLETTA ANDRIA TRANI    Puglia          Re Artù   \n",
       "2496      Trani (BT)  BARLETTA ANDRIA TRANI    Puglia     Well's Fargo   \n",
       "\n",
       "      canno_inserimento cdata_e_ora_inserimento  \\\n",
       "0                  2011    2011-06-25T23:17:43Z   \n",
       "1                  2011    2011-07-29T17:22:56Z   \n",
       "2                  2015    2015-10-24T09:28:06Z   \n",
       "3                  2010    2010-09-22T08:32:52Z   \n",
       "4                  2012    2012-05-21T14:28:45Z   \n",
       "...                 ...                     ...   \n",
       "2492               2010    2010-01-17T16:15:08Z   \n",
       "2493               2014    2014-03-03T20:56:16Z   \n",
       "2494               2014    2014-01-07T19:22:18Z   \n",
       "2495               2009    2009-09-04T07:57:05Z   \n",
       "2496               2009    2009-08-10T12:44:03Z   \n",
       "\n",
       "      cidentificatore_in_openstreetmap  clongitudine  clatitudine  \n",
       "0                           1339088150     13.733257    45.575830  \n",
       "1                           1375887295     12.418681    46.747584  \n",
       "2                           3323888102      9.029585    45.831340  \n",
       "3                            921157802     13.640939    45.954607  \n",
       "4                           1760949034      7.307306    45.313150  \n",
       "...                                ...           ...          ...  \n",
       "2492                         615632993     16.285782    41.320671  \n",
       "2493                        2613737619     16.497204    41.241814  \n",
       "2494                        2613737620     16.506175    41.240957  \n",
       "2495                         482836935     16.418124    41.281518  \n",
       "2496                         387223648     16.436765    41.267264  \n",
       "\n",
       "[2497 rows x 9 columns]"
      ]
     },
     "execution_count": 3,
     "metadata": {},
     "output_type": "execute_result"
    }
   ],
   "source": [
    "file_path = \"../Python/Mappa-dei-pub-circoli-locali-in-Italia.json\"\n",
    "df = pd.read_json(file_path, encoding = 'latin1')\n",
    "df"
   ]
  },
  {
   "cell_type": "code",
   "execution_count": 4,
   "id": "b597cff0-ee04-455e-9c38-e97fed1732b5",
   "metadata": {},
   "outputs": [
    {
     "data": {
      "text/html": [
       "<div>\n",
       "<style scoped>\n",
       "    .dataframe tbody tr th:only-of-type {\n",
       "        vertical-align: middle;\n",
       "    }\n",
       "\n",
       "    .dataframe tbody tr th {\n",
       "        vertical-align: top;\n",
       "    }\n",
       "\n",
       "    .dataframe thead th {\n",
       "        text-align: right;\n",
       "    }\n",
       "</style>\n",
       "<table border=\"1\" class=\"dataframe\">\n",
       "  <thead>\n",
       "    <tr style=\"text-align: right;\">\n",
       "      <th></th>\n",
       "      <th>canno_inserimento</th>\n",
       "      <th>cidentificatore_in_openstreetmap</th>\n",
       "      <th>clongitudine</th>\n",
       "      <th>clatitudine</th>\n",
       "    </tr>\n",
       "  </thead>\n",
       "  <tbody>\n",
       "    <tr>\n",
       "      <th>count</th>\n",
       "      <td>2497.000000</td>\n",
       "      <td>2.497000e+03</td>\n",
       "      <td>2497.000000</td>\n",
       "      <td>2497.000000</td>\n",
       "    </tr>\n",
       "    <tr>\n",
       "      <th>mean</th>\n",
       "      <td>2012.816179</td>\n",
       "      <td>1.847805e+09</td>\n",
       "      <td>11.412889</td>\n",
       "      <td>44.106531</td>\n",
       "    </tr>\n",
       "    <tr>\n",
       "      <th>std</th>\n",
       "      <td>1.915547</td>\n",
       "      <td>1.057789e+09</td>\n",
       "      <td>2.381334</td>\n",
       "      <td>2.108361</td>\n",
       "    </tr>\n",
       "    <tr>\n",
       "      <th>min</th>\n",
       "      <td>2007.000000</td>\n",
       "      <td>3.203094e+07</td>\n",
       "      <td>6.708958</td>\n",
       "      <td>36.680786</td>\n",
       "    </tr>\n",
       "    <tr>\n",
       "      <th>25%</th>\n",
       "      <td>2012.000000</td>\n",
       "      <td>9.195678e+08</td>\n",
       "      <td>9.214541</td>\n",
       "      <td>42.885316</td>\n",
       "    </tr>\n",
       "    <tr>\n",
       "      <th>50%</th>\n",
       "      <td>2013.000000</td>\n",
       "      <td>1.769765e+09</td>\n",
       "      <td>11.301761</td>\n",
       "      <td>45.049664</td>\n",
       "    </tr>\n",
       "    <tr>\n",
       "      <th>75%</th>\n",
       "      <td>2014.000000</td>\n",
       "      <td>2.616963e+09</td>\n",
       "      <td>12.682012</td>\n",
       "      <td>45.617151</td>\n",
       "    </tr>\n",
       "    <tr>\n",
       "      <th>max</th>\n",
       "      <td>2016.000000</td>\n",
       "      <td>4.012443e+09</td>\n",
       "      <td>18.444577</td>\n",
       "      <td>46.983781</td>\n",
       "    </tr>\n",
       "  </tbody>\n",
       "</table>\n",
       "</div>"
      ],
      "text/plain": [
       "       canno_inserimento  cidentificatore_in_openstreetmap  clongitudine  \\\n",
       "count        2497.000000                      2.497000e+03   2497.000000   \n",
       "mean         2012.816179                      1.847805e+09     11.412889   \n",
       "std             1.915547                      1.057789e+09      2.381334   \n",
       "min          2007.000000                      3.203094e+07      6.708958   \n",
       "25%          2012.000000                      9.195678e+08      9.214541   \n",
       "50%          2013.000000                      1.769765e+09     11.301761   \n",
       "75%          2014.000000                      2.616963e+09     12.682012   \n",
       "max          2016.000000                      4.012443e+09     18.444577   \n",
       "\n",
       "       clatitudine  \n",
       "count  2497.000000  \n",
       "mean     44.106531  \n",
       "std       2.108361  \n",
       "min      36.680786  \n",
       "25%      42.885316  \n",
       "50%      45.049664  \n",
       "75%      45.617151  \n",
       "max      46.983781  "
      ]
     },
     "execution_count": 4,
     "metadata": {},
     "output_type": "execute_result"
    }
   ],
   "source": [
    "# quanti dati ci sono in totale?\n",
    "df.describe()"
   ]
  },
  {
   "cell_type": "code",
   "execution_count": 6,
   "id": "1c659695-27cb-4e4a-9e3b-4a81ec67aab7",
   "metadata": {},
   "outputs": [
    {
     "name": "stdout",
     "output_type": "stream",
     "text": [
      "<class 'pandas.core.frame.DataFrame'>\n",
      "RangeIndex: 2497 entries, 0 to 2496\n",
      "Data columns (total 9 columns):\n",
      " #   Column                            Non-Null Count  Dtype  \n",
      "---  ------                            --------------  -----  \n",
      " 0   ccomune                           2497 non-null   object \n",
      " 1   cprovincia                        2497 non-null   object \n",
      " 2   cregione                          2497 non-null   object \n",
      " 3   cnome                             2497 non-null   object \n",
      " 4   canno_inserimento                 2497 non-null   int64  \n",
      " 5   cdata_e_ora_inserimento           2497 non-null   object \n",
      " 6   cidentificatore_in_openstreetmap  2497 non-null   int64  \n",
      " 7   clongitudine                      2497 non-null   float64\n",
      " 8   clatitudine                       2497 non-null   float64\n",
      "dtypes: float64(2), int64(2), object(5)\n",
      "memory usage: 175.7+ KB\n"
     ]
    }
   ],
   "source": [
    "# quanti dati ci sono in totale?\n",
    "df.info()"
   ]
  },
  {
   "cell_type": "code",
   "execution_count": 7,
   "id": "cba0362e-63a9-4ee6-b5ed-f2af2458b1f0",
   "metadata": {},
   "outputs": [
    {
     "data": {
      "text/plain": [
       "ccomune                              object\n",
       "cprovincia                           object\n",
       "cregione                             object\n",
       "cnome                                object\n",
       "canno_inserimento                     int64\n",
       "cdata_e_ora_inserimento              object\n",
       "cidentificatore_in_openstreetmap      int64\n",
       "clongitudine                        float64\n",
       "clatitudine                         float64\n",
       "dtype: object"
      ]
     },
     "execution_count": 7,
     "metadata": {},
     "output_type": "execute_result"
    }
   ],
   "source": [
    "# quali sono i metadati?\n",
    "df.dtypes"
   ]
  },
  {
   "cell_type": "code",
   "execution_count": 66,
   "id": "9df0fa3e-fa91-4cf1-9dd4-182fd16eec1d",
   "metadata": {},
   "outputs": [
    {
     "data": {
      "text/plain": [
       "comune                              object\n",
       "provincia                           object\n",
       "regione                             object\n",
       "nome                                object\n",
       "anno_inserimento                     int64\n",
       "data_e_ora_inserimento              object\n",
       "identificatore_in_openstreetmap      int64\n",
       "longitudine                        float64\n",
       "latitudine                         float64\n",
       "dtype: object"
      ]
     },
     "execution_count": 66,
     "metadata": {},
     "output_type": "execute_result"
    }
   ],
   "source": [
    "#pulizia colonne\n",
    "df.rename(columns = {'ccomune' : 'comune'}, inplace = True)\n",
    "df.rename(columns = {'cprovincia' : 'provincia'}, inplace = True)\n",
    "df.rename(columns = {'cregione' : 'regione'}, inplace = True)\n",
    "df.rename(columns = {'cnome' : 'nome'}, inplace = True)\n",
    "df.rename(columns = {'canno_inserimento' : 'anno_inserimento'}, inplace = True)\n",
    "df.rename(columns = {'cdata_e_ora_inserimento' : 'data_e_ora_inserimento'}, inplace = True)\n",
    "df.rename(columns = {'cidentificatore_in_openstreetmap' : 'identificatore_in_openstreetmap'}, inplace = True)\n",
    "df.rename(columns = {'clongitudine' : 'longitudine'}, inplace = True)\n",
    "df.rename(columns = {'clongitudine' : 'longitudine'}, inplace = True)\n",
    "df.dtypes"
   ]
  },
  {
   "cell_type": "code",
   "execution_count": 18,
   "id": "3b592753-5745-4ecf-8f2d-25bf321ecbc6",
   "metadata": {},
   "outputs": [
    {
     "data": {
      "text/plain": [
       "comune                                            ALTRO\n",
       "provincia                                         ALTRO\n",
       "cregione                                          ALTRO\n",
       "nome                                                   \n",
       "anno_inserimento                                   2011\n",
       "data_e_ora_inserimento             2011-06-25T23:17:43Z\n",
       "identificatore_in_openstreetmap              1339088150\n",
       "longitudine                                   13.733257\n",
       "latitudine                                     45.57583\n",
       "Name: 0, dtype: object"
      ]
     },
     "execution_count": 18,
     "metadata": {},
     "output_type": "execute_result"
    }
   ],
   "source": [
    "#stampiamo il primo elemento\n",
    "df.iloc[0]"
   ]
  },
  {
   "cell_type": "code",
   "execution_count": 19,
   "id": "90c89dcd-7a40-4992-8f7d-fe3e5d7b435b",
   "metadata": {},
   "outputs": [
    {
     "data": {
      "text/plain": [
       "comune                                        Trani (BT)\n",
       "provincia                          BARLETTA ANDRIA TRANI\n",
       "cregione                                          Puglia\n",
       "nome                                        Well's Fargo\n",
       "anno_inserimento                                    2009\n",
       "data_e_ora_inserimento              2009-08-10T12:44:03Z\n",
       "identificatore_in_openstreetmap                387223648\n",
       "longitudine                                    16.436765\n",
       "latitudine                                     41.267264\n",
       "Name: 2496, dtype: object"
      ]
     },
     "execution_count": 19,
     "metadata": {},
     "output_type": "execute_result"
    }
   ],
   "source": [
    "#stampiamo l'ultimo elemento\n",
    "df.iloc[-1]"
   ]
  },
  {
   "cell_type": "code",
   "execution_count": 20,
   "id": "427bf746-e6f9-4d6f-a277-90d44272a3a9",
   "metadata": {},
   "outputs": [
    {
     "data": {
      "text/html": [
       "<div>\n",
       "<style scoped>\n",
       "    .dataframe tbody tr th:only-of-type {\n",
       "        vertical-align: middle;\n",
       "    }\n",
       "\n",
       "    .dataframe tbody tr th {\n",
       "        vertical-align: top;\n",
       "    }\n",
       "\n",
       "    .dataframe thead th {\n",
       "        text-align: right;\n",
       "    }\n",
       "</style>\n",
       "<table border=\"1\" class=\"dataframe\">\n",
       "  <thead>\n",
       "    <tr style=\"text-align: right;\">\n",
       "      <th></th>\n",
       "      <th>comune</th>\n",
       "      <th>provincia</th>\n",
       "      <th>cregione</th>\n",
       "      <th>nome</th>\n",
       "      <th>anno_inserimento</th>\n",
       "      <th>data_e_ora_inserimento</th>\n",
       "      <th>identificatore_in_openstreetmap</th>\n",
       "      <th>longitudine</th>\n",
       "      <th>latitudine</th>\n",
       "    </tr>\n",
       "  </thead>\n",
       "  <tbody>\n",
       "    <tr>\n",
       "      <th>1148</th>\n",
       "      <td>Iesolo</td>\n",
       "      <td>VENEZIA</td>\n",
       "      <td>Veneto</td>\n",
       "      <td>Morgan's</td>\n",
       "      <td>2012</td>\n",
       "      <td>2012-01-02T10:22:47Z</td>\n",
       "      <td>1573849112</td>\n",
       "      <td>12.63402</td>\n",
       "      <td>45.501844</td>\n",
       "    </tr>\n",
       "  </tbody>\n",
       "</table>\n",
       "</div>"
      ],
      "text/plain": [
       "      comune provincia cregione      nome  anno_inserimento  \\\n",
       "1148  Iesolo   VENEZIA   Veneto  Morgan's              2012   \n",
       "\n",
       "     data_e_ora_inserimento  identificatore_in_openstreetmap  longitudine  \\\n",
       "1148   2012-01-02T10:22:47Z                       1573849112     12.63402   \n",
       "\n",
       "      latitudine  \n",
       "1148   45.501844  "
      ]
     },
     "execution_count": 20,
     "metadata": {},
     "output_type": "execute_result"
    }
   ],
   "source": [
    "#riusciamo a stampare un elemento a caso?\n",
    "df.sample(1)"
   ]
  },
  {
   "cell_type": "code",
   "execution_count": 26,
   "id": "c9a5c999-8278-4bf8-a9c8-8d13bf4e36ef",
   "metadata": {},
   "outputs": [
    {
     "data": {
      "text/plain": [
       "array([2011, 2015, 2010, 2012, 2014, 2016, 2013, 2008, 2009, 2007],\n",
       "      dtype=int64)"
      ]
     },
     "execution_count": 26,
     "metadata": {},
     "output_type": "execute_result"
    }
   ],
   "source": [
    "#quali sono gli anni di inserimento presenti?\n",
    "anni_inserimento = df['anno_inserimento'].unique()\n",
    "anni_inserimento"
   ]
  },
  {
   "cell_type": "code",
   "execution_count": 58,
   "id": "a8e3a2ca-012c-4b84-90d1-c316c820b4b0",
   "metadata": {},
   "outputs": [],
   "source": [
    "#quante attività ci sono nel quadrato di longitudine 9-10 e latitudine 45-46?\n",
    "attività = df[((df['longitudine']>=9) & (df['longitudine']<=10)) & ((df['latitudine']>=45) & (df['latitudine']<=46))]"
   ]
  },
  {
   "cell_type": "code",
   "execution_count": 60,
   "id": "e93a24f9-d67f-404d-b176-b990084da88d",
   "metadata": {},
   "outputs": [
    {
     "data": {
      "text/plain": [
       "303"
      ]
     },
     "execution_count": 60,
     "metadata": {},
     "output_type": "execute_result"
    }
   ],
   "source": [
    "len(attività)"
   ]
  },
  {
   "cell_type": "code",
   "execution_count": 61,
   "id": "d5e0fc95-e733-4029-a6f8-b2741f04eb5f",
   "metadata": {},
   "outputs": [
    {
     "data": {
      "text/plain": [
       "303"
      ]
     },
     "execution_count": 61,
     "metadata": {},
     "output_type": "execute_result"
    }
   ],
   "source": [
    "attività.shape[0]"
   ]
  },
  {
   "cell_type": "code",
   "execution_count": 42,
   "id": "000bdf69-fdca-42f1-844d-d7a14795b7bc",
   "metadata": {},
   "outputs": [
    {
     "data": {
      "text/plain": [
       "73"
      ]
     },
     "execution_count": 42,
     "metadata": {},
     "output_type": "execute_result"
    }
   ],
   "source": [
    "#quante attività ci sono nella provincia di Vicenza?\n",
    "attività_vicenza = df[df.provincia == \"VICENZA\"].shape[0]\n",
    "attività_vicenza"
   ]
  },
  {
   "cell_type": "code",
   "execution_count": 63,
   "id": "378ec0c7-7424-4c30-9c64-7f865d5e5b04",
   "metadata": {},
   "outputs": [
    {
     "data": {
      "text/plain": [
       "2211"
      ]
     },
     "execution_count": 63,
     "metadata": {},
     "output_type": "execute_result"
    }
   ],
   "source": [
    "#quante enoteche ci sono, e come si chiamano?\n",
    "num_enoteche = df.nome.replace('', np.nan).count() # la funzione count non conta i valori rimpiazzati\n",
    "num_enoteche"
   ]
  },
  {
   "cell_type": "code",
   "execution_count": 75,
   "id": "16b632be-684f-4b47-b7ee-70769e90dbc6",
   "metadata": {},
   "outputs": [
    {
     "data": {
      "text/plain": [
       "regione\n",
       "Abruzzo     48\n",
       "Lazio      189\n",
       "Name: nome, dtype: int64"
      ]
     },
     "execution_count": 75,
     "metadata": {},
     "output_type": "execute_result"
    }
   ],
   "source": [
    "#quante attività ci sono in Lazio e Abruzzo assieme?\n",
    "regioni = df[df[\"regione\"].isin([\"Lazio\", \"Abruzzo\"])]\n",
    "conteggi_regione = regioni.groupby(\"regione\")[\"nome\"].count()\n",
    "conteggi_regione\n"
   ]
  },
  {
   "cell_type": "code",
   "execution_count": 76,
   "id": "56fc3c81-f9dc-4a87-b93f-7be6e184f87c",
   "metadata": {},
   "outputs": [
    {
     "data": {
      "text/plain": [
       "237"
      ]
     },
     "execution_count": 76,
     "metadata": {},
     "output_type": "execute_result"
    }
   ],
   "source": [
    "regioni = df[df[\"regione\"].isin([\"Lazio\", \"Abruzzo\"])]\n",
    "conteggi_regione = regioni.groupby(\"regione\")[\"nome\"].count()\n",
    "conteggi_regione.sum()"
   ]
  }
 ],
 "metadata": {
  "kernelspec": {
   "display_name": "Python 3 (ipykernel)",
   "language": "python",
   "name": "python3"
  },
  "language_info": {
   "codemirror_mode": {
    "name": "ipython",
    "version": 3
   },
   "file_extension": ".py",
   "mimetype": "text/x-python",
   "name": "python",
   "nbconvert_exporter": "python",
   "pygments_lexer": "ipython3",
   "version": "3.11.7"
  }
 },
 "nbformat": 4,
 "nbformat_minor": 5
}
